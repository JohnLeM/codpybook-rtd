{
  "cells": [
    {
      "cell_type": "markdown",
      "metadata": {},
      "source": [
        "\n# 3.4.7 Leray operator and Helmholtz-Hodge decomposition\n\nThis section describes the Leray operator and its role in the\nHelmholtz\u2013Hodge decomposition, which is foundational in the analysis of\nincompressible fluid flows, turbulence, and vector field analysis.\n\n## Overview\n\nThe **Helmholtz\u2013Hodge decomposition** expresses any vector field\nas the orthogonal sum of a **gradient component** and a\n**divergence-free component**:\n\n$$\nv = \\nabla h + \\zeta,\n\\quad \\nabla \\cdot \\zeta = 0,\n\\quad h = \\Delta^{-1} \\nabla \\cdot v\n$$\n\nIn the context of kernel methods, CodPy provides a numerical\napproximation of this decomposition via the **Leray operator**.\n\n## Leray Operator Definition\n\nThe Leray operator is defined by subtracting the Leray-orthogonal projection\nfrom the identity:\n\n$$\nL_k(\\cdot) = I_d - L_k(\\cdot)^{\\perp}\n= I_d - \\nabla_k(\\cdot)\n\\cdot \\Delta_k(\\cdot)^{-1}\n\\cdot \\nabla_k(\\cdot)^T\n$$\n\nThis operator projects any field onto the **divergence-free** subspace.\nFor any vector field $v_z \\in \\mathbb{R}^{D \\times N_z \\times D_v}$,\nwe obtain the orthogonal decomposition:\n\n$$\nv_z = L_k(Z) v_z + L_k(Z)^{\\perp} v_z\n$$\n\nwith the orthogonality condition:\n\n$$\n\\left< L_k v_z, L_k^{\\perp} v_z \\right>_{D, N_z, D_v} = 0\n$$\n\n## Numerical Helmholtz\u2013Hodge Decomposition\n\nUsing the Leray operator, we can numerically approximate the decomposition:\n\n$$\nv_z = \\nabla_k(Z) h_x + \\zeta_z\n$$\n\nwhere:\n- $h_x = \\nabla_k^{-1}(Z) v_z$ is the scalar potential,\n- $\\zeta_z = L_k(Z) v_z$ is the divergence-free component.\n\nThis decomposition satisfies the orthogonality relations:\n\n$$\n\\nabla_k(Z)^T \\zeta_z = 0,\n\\quad\n\\left< \\zeta_z, \\nabla_k h_x \\right>_{D, N_z, D_f} = 0\n$$\n\nThese conditions mirror the classical Hodge decomposition and provide\na powerful framework for the simulation and analysis of fluid flows.\n\n## CodPy Implementation\n"
      ]
    },
    {
      "cell_type": "code",
      "execution_count": null,
      "metadata": {
        "collapsed": false
      },
      "outputs": [],
      "source": [
        "# Importing necessary modules\nimport os\nimport sys\n\nfrom matplotlib import pyplot as plt\n\ncurr_f = os.path.join(os.getcwd(), \"codpy-book\", \"utils\")\nsys.path.insert(0, curr_f)\n\n\nimport numpy as np\n\n# from codpy.plotting import plot1D\n# Lets import multi_plot function from codpy utils\nfrom codpy.plot_utils import multi_plot\n\n\n# Define the sinusoidal function\ndef periodic_fun(x):\n    \"\"\"\n    A sinusoidal function that generates a sum of sines based on the input ``x``.\n    \"\"\"\n    from math import pi\n\n    sinss = np.cos(2 * x * pi)\n    if x.ndim == 1:\n        sinss = np.prod(sinss, axis=0)\n        ress = np.sum(x, axis=0)\n    else:\n        sinss = np.prod(sinss, axis=1)\n        ress = np.sum(x, axis=1)\n    return ress + sinss\n\n\ndef nabla_my_fun(x):\n    from math import pi\n\n    import numpy as np\n\n    sinss = np.cos(2 * x * pi)\n    if x.ndim == 1:\n        sinss = np.prod(sinss, axis=0)\n        D = len(x)\n        out = np.ones((D))\n\n        def helper(d):\n            out[d] += 2.0 * sinss * pi * np.sin(2 * x[d] * pi) / np.cos(2 * x[d] * pi)\n\n        [helper(d) for d in range(0, D)]\n    else:\n        sinss = np.prod(sinss, axis=1)\n        N = x.shape[0]\n        D = x.shape[1]\n        out = np.ones((N, D))\n\n        def helper(d):\n            out[:, d] += (\n                2.0 * sinss * pi * np.sin(2 * x[:, d] * pi) / np.cos(2 * x[:, d] * pi)\n            )\n\n        [helper(d) for d in range(0, D)]\n    return out\n\n\n# Function to generate periodic data\ndef generate_periodic_data_cartesian(size_x, size_z, fun=None, nabla_fun=None):\n    \"\"\"\n    Generates 2D structured Cartesian grid data for x and z domains,\n    and evaluates a given function and optionally its gradient.\n\n    Parameters:\n    - size_x: number of points per axis for x (grid will be size_x^2)\n    - size_z: number of points per axis for z (grid will be size_z^2)\n    - fun: function to evaluate at each point\n    - nabla_fun: optional gradient function to evaluate\n\n    Returns:\n    - x, z: 2D Cartesian grids of shape (N, 2)\n    - fx, fz: function values at x and z\n    - nabla_fx, nabla_fz (if nabla_fun is provided)\n    \"\"\"\n\n    def cartesian_grid(size, box):\n        lin = [np.linspace(box[0, d], box[1, d], size) for d in range(2)]\n        X, Y = np.meshgrid(*lin)\n        return np.stack([X.ravel(), Y.ravel()], axis=1)\n\n    # Define domain boxes\n    X_box = np.array([[-1, -1], [1, 1]])\n    Z_box = np.array([[-1.5, -1.5], [1.5, 1.5]])\n\n    # Generate Cartesian grids\n    x = cartesian_grid(size_x, X_box)\n    z = cartesian_grid(size_z, Z_box)\n\n    # Function evaluations\n    fx = fun(x).reshape(-1, 1) if fun else None\n    fz = fun(z).reshape(-1, 1) if fun else None\n\n    if nabla_fun:\n        nabla_fx = nabla_fun(x)\n        nabla_fz = nabla_fun(z)\n        return x, fx, z, fz, nabla_fx, nabla_fz\n\n    return x, fx, z, fz\n\n\n# Lets define helper function to plot 3D projection of the function\ndef plot_trisurf(xfx, ax, legend=\"\", elev=90, azim=-100, **kwargs):\n    from matplotlib import cm\n\n    \"\"\"\n    Helper function to plot a 3D surface using a trisurf plot.\n\n    Parameters:\n    - xfx: A tuple containing the x-coordinates (2D points) and their \n      corresponding function values.\n    - ax: The matplotlib axis object for plotting.\n    - legend: The legend/title for the plot.\n    - elev, azim: Elevation and azimuth angles for the 3D view.\n    - kwargs: Additional keyword arguments for further customization.\n    \"\"\"\n\n    xp, fxp = xfx[0], xfx[1]\n    x, fx = xp, fxp\n\n    X, Y = x[:, 0], x[:, 1]\n    Z = fx.flatten()\n    ax.plot_trisurf(X, Y, Z, antialiased=False, cmap=cm.jet)\n    ax.view_init(azim=azim, elev=elev)\n    ax.title.set_text(legend)\n\n\n# import CodPy's core module and Kernel class\nfrom codpy import core\nfrom codpy.kernel import Kernel"
      ]
    },
    {
      "cell_type": "markdown",
      "metadata": {},
      "source": [
        "Leray operator and Helmholtz-Hodge decomposition\n\n########################################################################\n\n"
      ]
    },
    {
      "cell_type": "code",
      "execution_count": null,
      "metadata": {
        "collapsed": false
      },
      "outputs": [],
      "source": [
        "def fun_Leray(size_x=50, size_y=50):\n    x, fx, z, fz, _, nabla_fz = generate_periodic_data_cartesian(\n        size_x, size_y, periodic_fun, nabla_fun=nabla_my_fun\n    )\n\n    nabla_fz = nabla_fz.reshape(-1, 2, 1)\n\n    kernel_ptr = Kernel(\n        x=x, fx=fx, set_kernel=core.kernel_setter(\"tensornorm\", \"scale_to_unitcube\", polynomial_order=0, regularization=1e-8 )\n    ).get_kernel()\n\n    nabla_inv_fx = core.DiffOps.nabla_inv(\n        x=x, y=x, z=z, fz=nabla_fz, kernel_ptr=kernel_ptr, order=0, regularization=1e-8\n    )\n    nabla_f_x = core.DiffOps.nabla(\n        x=x,\n        z=z,\n        fx=nabla_inv_fx,\n        kernel_ptr=kernel_ptr,\n        order=0,\n        regularization=1e-8,\n    )\n    Leray_fz = nabla_f_x \n    multi_plot(\n        [\n            (z, nabla_fz[:, 0, :]),\n            (z, Leray_fz[:, 0, :]),\n            (z, nabla_fz[:, 1, :]),\n            (z, Leray_fz[:, 1, :]),\n        ],\n        plot_trisurf,\n        projection=\"3d\",\n        mp_nrows=1,\n        mp_figsize=(12, 3),\n        mp_title=[\"Comparing f(z) and the Leray operator in each direction\"],\n    )\n    plt.show()\n\n# core.KerInterface.set_verbose()\n\nfun_Leray()\n\n\ndef fun_Leray2(size_x=50, size_y=50):\n    x, fx, z, fz, _, nabla_fz = generate_periodic_data_cartesian(\n        size_x, size_y, periodic_fun, nabla_fun=nabla_my_fun\n    )\n\n    nabla_fz = nabla_fz.reshape(-1, 2, 1)\n\n    kernel_ptr = Kernel(\n        x=x, fx=fx, set_kernel=core.kernel_setter(\"tensornorm\", \"scale_to_unitcube\", polynomial_order=0, regularization=1e-8 )\n    ).get_kernel()\n\n    nabla_inv_fx = core.DiffOps.nabla_inv(\n        x=x, y=x, z=z, fz=nabla_fz, kernel_ptr=kernel_ptr, order=2, regularization=1e-8\n    )\n    nabla_f_x = core.DiffOps.nabla(\n        x=x,\n        z=z,\n        fx=nabla_inv_fx,\n        kernel_ptr=kernel_ptr,\n        order=2,\n        regularization=1e-8,\n    )\n    Leray_fz = nabla_fz - nabla_f_x\n\n    Leray_fz2 = core.DiffOps.leray(x=x, y=x, fx=nabla_f_x, kernel_ptr=kernel_ptr)\n    multi_plot(\n        [\n            (z, Leray_fz2[:, 0, :]),\n            (z, Leray_fz[:, 0, :]),\n            (z, Leray_fz2[:, 1, :]),\n            (z, Leray_fz[:, 1, :]),\n        ],\n        plot_trisurf,\n        projection=\"3d\",\n        mp_nrows=1,\n        mp_figsize=(12, 3),\n        mp_title=[\"Comparing f(z) and the Leray operator in each direction\"],\n    )\n    plt.show()\n\n\nfun_Leray2()"
      ]
    }
  ],
  "metadata": {
    "kernelspec": {
      "display_name": "Python 3",
      "language": "python",
      "name": "python3"
    },
    "language_info": {
      "codemirror_mode": {
        "name": "ipython",
        "version": 3
      },
      "file_extension": ".py",
      "mimetype": "text/x-python",
      "name": "python",
      "nbconvert_exporter": "python",
      "pygments_lexer": "ipython3",
      "version": "3.9.13"
    }
  },
  "nbformat": 4,
  "nbformat_minor": 0
}