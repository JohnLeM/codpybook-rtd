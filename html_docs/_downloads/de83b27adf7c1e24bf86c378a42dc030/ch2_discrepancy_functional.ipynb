{
  "cells": [
    {
      "cell_type": "markdown",
      "metadata": {},
      "source": [
        "\n# 2.6.2 A study of the discrepancy functional\n\nIn this experiment,\n"
      ]
    },
    {
      "cell_type": "code",
      "execution_count": null,
      "metadata": {
        "collapsed": false
      },
      "outputs": [],
      "source": [
        "# Importing necessary modules\nimport os\nimport sys\n\nfrom matplotlib import pyplot as plt\n\nfrom codpy.kernel import Kernel\n\ncurr_f = os.path.join(os.getcwd(), \"codpy-book\", \"utils\")\nsys.path.insert(0, curr_f)\n\n\nimport numpy as np"
      ]
    },
    {
      "cell_type": "markdown",
      "metadata": {},
      "source": [
        "**Discrepancy Functionals and Kernel Smoothness**\n\nThe behavior of the discrepancy functional $d_k(X, y)$, which measures the distance between a distribution $X$\nand a query point $y$, depends on the smoothness of the kernel $k$. When the kernel is smooth,\nsuch as the Gaussian kernel $k(x, y) = \\exp(-\\|x - y\\|^2)$, the functional $y \\mapsto d_k(X, y)$\nis also smooth (but generally non-convex), making it amenable to gradient-based optimization.\n\nIn contrast, when the kernel is less regular e.g., the ReLU kernel $k(x, y) = \\max(1 - \\|x - y\\|, 0)$\nor the Matern kernel $k(x, y) = \\exp(-\\|x - y\\|)$  the resulting functional becomes only piecewise differentiable\nor continuous. This can lead to flat regions or multiple minima, making gradient-based optimization more difficult\nor ill-posed. Visual experiments with these kernels illustrate how the geometry of $d_k(X, y)$ changes depending on\nthe kernel's regularity.\nimport CodPy's core module and Kernel class\n\n"
      ]
    },
    {
      "cell_type": "code",
      "execution_count": null,
      "metadata": {
        "collapsed": false
      },
      "outputs": [],
      "source": [
        "from codpy import core\n\n# from codpy.plotting import plot1D\n# Lets import multi_plot function from codpy utils\nfrom codpy.plot_utils import compare_plot_lists, multi_plot\n\n# x = np.random.randn(10, 1)\n# kernel = Kernel(\n#     set_kernel=core.kernel_setter(\"gaussian\", None),\n#     x=x,\n#     order=1,\n# )\n\n\ndef graphicMMD1(datas, **kwargs):\n    multi_plot(datas, compare_plot_lists, mp_nrows=1, mp_figsize=(12, 3), **kwargs)\n\n\ndef MMD_experiment_1D():\n    x = np.linspace(-1, 1, 5)\n    y = np.linspace(-1, 1, 100)\n\n    # Gaussian\n    disc_g = core.Misc.DiscrepancyFunctional(\n        x=x,\n        kernel_ptr=Kernel(\n            x=x, set_kernel=core.kernel_setter(\"gaussian\", None)\n        ).get_kernel(),\n        polynomial_order=0,\n    )\n\n    dx_g = disc_g(x)\n    dy_g = disc_g(y)\n\n    # RELU / tensornorm\n    disc_r = core.Misc.DiscrepancyFunctional(\n        x=x,\n        kernel_ptr=Kernel(\n            x=x, set_kernel=core.kernel_setter(\"tensornorm\", \"scale_to_unitcube\")\n        ).get_kernel(),\n        polynomial_order=0,\n    )\n    dx_r = disc_r(x)\n    dy_r = disc_r(y)\n\n    # Matern\n    disc_m = core.Misc.DiscrepancyFunctional(\n        x=x,\n        kernel_ptr=Kernel(\n            x=x, set_kernel=core.kernel_setter(\"maternnorm\", \"meandistance\")\n        ).get_kernel(),\n        polynomial_order=0,\n    )\n\n    dx_m = disc_m(x)\n    dy_m = disc_m(y)\n\n    datas = [\n        {\"listxs\": (x, y), \"listfxs\": (dx_g, dy_g)},\n        {\"listxs\": (x, y), \"listfxs\": (dx_r, dy_r)},\n        {\"listxs\": (x, y), \"listfxs\": (dx_m, dy_m)},\n    ]\n\n    title_list = [\"Gaussian kernel\", \"RELU kernel\", \"Matern kernel\"]\n\n    graphicMMD1(datas, f_names=title_list, fontsize=10, marker=None, ls=None)\n    plt.show()\n\n\nMMD_experiment_1D()"
      ]
    },
    {
      "cell_type": "markdown",
      "metadata": {},
      "source": [
        "**2D Example**\n\n\n"
      ]
    },
    {
      "cell_type": "code",
      "execution_count": null,
      "metadata": {
        "collapsed": false
      },
      "outputs": [],
      "source": [
        "# Lets define helper function to plot 3D projection of the function\ndef plot_trisurf(xfx, ax, legend=\"\", elev=90, azim=-100, **kwargs):\n    from matplotlib import cm\n\n    \"\"\"\n    Helper function to plot a 3D surface using a trisurf plot.\n\n    Parameters:\n    - xfx: A tuple containing the x-coordinates (2D points) and their \n      corresponding function values.\n    - ax: The matplotlib axis object for plotting.\n    - legend: The legend/title for the plot.\n    - elev, azim: Elevation and azimuth angles for the 3D view.\n    - kwargs: Additional keyword arguments for further customization.\n    \"\"\"\n\n    xp, fxp = xfx[0], xfx[1]\n    x, fx = xp, fxp\n\n    X, Y = x[:, 0], x[:, 1]\n    Z = fx.flatten()\n    ax.plot_trisurf(X, Y, Z, antialiased=False, cmap=cm.jet)\n    ax.view_init(azim=azim, elev=elev)\n    ax.title.set_text(legend)\n\n\ndef graphicMMD2(datas, **kwargs):\n    y = datas[0][\"listxs\"][0]\n    dysg, dysn, dysm = (\n        datas[0][\"listfxs\"][0],\n        datas[1][\"listfxs\"][0],\n        datas[2][\"listfxs\"][0],\n    )\n    multi_plot(\n        [(y, dysg), (y, dysn), (y, dysm)],\n        plot_trisurf,\n        projection=\"3d\",\n        elev=30,\n        mp_nrows=1,\n        mp_figsize=(12, 3),\n        **kwargs,\n    )\n\n\n# Function to generate periodic data\ndef MMD_experiment_2D(size_x=1000, size_y=1000):\n    # Generate x and z data of different sizes\n    x = np.random.uniform(-1, 1, (size_x, 2))\n    y = np.random.uniform(-1.5, 1.5, (size_y, 2))\n\n    disc_g = core.Misc.DiscrepancyFunctional(\n        x=x,\n        kernel_ptr=Kernel(\n            x=x, set_kernel=core.kernel_setter(\"gaussian\", None)\n        ).get_kernel(),\n        polynomial_order=0,\n    )\n    dx_g = disc_g(x)\n    dy_g = disc_g(y)\n\n    # RELU / tensornorm\n    disc_r = core.Misc.DiscrepancyFunctional(\n        x=x,\n        kernel_ptr=Kernel(\n            x=x, set_kernel=core.kernel_setter(\"tensornorm\", \"scale_to_unitcube\")\n        ).get_kernel(),\n        polynomial_order=0,\n    )\n    dx_r = disc_r(x)\n    dy_r = disc_r(y)\n\n    # Matern\n    disc_m = core.Misc.DiscrepancyFunctional(\n        x=x,\n        kernel_ptr=Kernel(\n            x=x, set_kernel=core.kernel_setter(\"maternnorm\", \"meandistance\")\n        ).get_kernel(),\n        polynomial_order=0,\n    )\n    dx_m = disc_m(x)\n    dy_m = disc_m(y)\n\n    datas = [\n        {\"listxs\": (x, y), \"listfxs\": (dx_g, dy_g)},\n        {\"listxs\": (x, y), \"listfxs\": (dx_r, dy_r)},\n        {\"listxs\": (x, y), \"listfxs\": (dx_m, dy_m)},\n    ]\n    title_list = [\"Gaussian kernel\", \"RELU kernel\", \"Matern kernel\"]\n    graphicMMD2(datas, f_names=title_list, fontsize=10)\n    plt.show()\n\n\nMMD_experiment_2D()"
      ]
    }
  ],
  "metadata": {
    "kernelspec": {
      "display_name": "Python 3",
      "language": "python",
      "name": "python3"
    },
    "language_info": {
      "codemirror_mode": {
        "name": "ipython",
        "version": 3
      },
      "file_extension": ".py",
      "mimetype": "text/x-python",
      "name": "python",
      "nbconvert_exporter": "python",
      "pygments_lexer": "ipython3",
      "version": "3.9.13"
    }
  },
  "nbformat": 4,
  "nbformat_minor": 0
}