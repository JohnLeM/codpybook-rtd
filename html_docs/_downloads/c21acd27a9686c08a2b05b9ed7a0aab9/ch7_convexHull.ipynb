{
  "cells": [
    {
      "cell_type": "markdown",
      "metadata": {},
      "source": [
        "\n# 7.05 Convex Hull Algorithm\nWe reproduce here the figure 7.7 & 7.8 of the book.\nUtilitary functions can be found next to this file. Here, we only define codpy-related functions.\n"
      ]
    },
    {
      "cell_type": "markdown",
      "metadata": {},
      "source": [
        "## Necessary Imports\n\n"
      ]
    },
    {
      "cell_type": "code",
      "execution_count": null,
      "metadata": {
        "collapsed": false
      },
      "outputs": [],
      "source": [
        "import os \nimport sys \n\nimport matplotlib.pyplot as plt \n\ntry:\n    CURRENT_DIR = os.path.dirname(os.path.abspath(__file__))\nexcept NameError:\n    CURRENT_DIR = os.getcwd()\ndata_path = os.path.join(CURRENT_DIR, \"data\")\nPARENT_DIR = os.path.abspath(os.path.join(CURRENT_DIR, \"..\"))\nsys.path.insert(0, PARENT_DIR)\n\nfrom utils.ch7.ch7_utils import CHA1D, CHA2D"
      ]
    },
    {
      "cell_type": "markdown",
      "metadata": {},
      "source": [
        "## Problem statement\nWe consider the Convex Hull algorithm and compute\n$$u(t,\\cdot) = y^+(t,\\cdot)_\\# u_0(\\cdot), \\quad y(t,x) = x + t f'(u_0(x)),$$\nWhere $y^+(t,\\cdot)$ is computed as\n$$y^+(t,\\cdot) = \\nabla h^+(t,\\cdot), \\quad \\nabla h(t,\\cdot) = y(t,\\cdot),$$\nand $h^+(t,\\cdot)$ is the convex hull of $h$.\n\n"
      ]
    },
    {
      "cell_type": "markdown",
      "metadata": {},
      "source": [
        "## One dimensional\nThis figures illustrates this computation for the one-dimensional Burgers equation : \n$$\\partial_t u + \\frac{1}{2}\\partial_x u^2 =0,$$\nThe left-hand figure is the initial condition at time zero, since the solution at middle represent the conservative solution at time 1, and the entropy solution is plot at right.\n\n"
      ]
    },
    {
      "cell_type": "code",
      "execution_count": null,
      "metadata": {
        "collapsed": false
      },
      "outputs": [],
      "source": [
        "CHA1D()\nplt.show()"
      ]
    },
    {
      "cell_type": "markdown",
      "metadata": {},
      "source": [
        "## Two dimensional\nThis figures illustrates the two dimensional case : \n$$\\partial_t u + \\frac{1}{2}\\nabla \\cdot(u^2,u^2)=0$$\n\n"
      ]
    },
    {
      "cell_type": "code",
      "execution_count": null,
      "metadata": {
        "collapsed": false
      },
      "outputs": [],
      "source": [
        "CHA2D()\nplt.show()\npass"
      ]
    }
  ],
  "metadata": {
    "kernelspec": {
      "display_name": "Python 3",
      "language": "python",
      "name": "python3"
    },
    "language_info": {
      "codemirror_mode": {
        "name": "ipython",
        "version": 3
      },
      "file_extension": ".py",
      "mimetype": "text/x-python",
      "name": "python",
      "nbconvert_exporter": "python",
      "pygments_lexer": "ipython3",
      "version": "3.9.13"
    }
  },
  "nbformat": 4,
  "nbformat_minor": 0
}