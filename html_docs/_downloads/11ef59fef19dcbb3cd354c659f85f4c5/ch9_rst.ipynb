{
  "cells": [
    {
      "cell_type": "markdown",
      "metadata": {},
      "source": [
        "\n# 9.13 Reverse Stress Test\nUtilitary functions can be found next to this file. Here, we only define codpy-related functions.\n"
      ]
    },
    {
      "cell_type": "markdown",
      "metadata": {},
      "source": [
        "## Necessary Imports\n\n"
      ]
    },
    {
      "cell_type": "code",
      "execution_count": null,
      "metadata": {
        "collapsed": false
      },
      "outputs": [],
      "source": [
        "import os\nimport sys\n\nimport matplotlib.pyplot as plt\nimport numpy as np\nimport pandas as pd \n\nfrom codpy.kernel import Sampler, Kernel\nfrom codpy.plot_utils import multi_plot, compare_plot_lists\nfrom codpy.data_conversion import get_float, get_matrix\n\ntry:\n    CURRENT_DIR = os.path.dirname(os.path.abspath(__file__))\nexcept NameError:\n    CURRENT_DIR = os.getcwd()\ndata_path = os.path.join(CURRENT_DIR, \"data\")\nPARENT_DIR = os.path.abspath(os.path.join(CURRENT_DIR, \"..\"))\nsys.path.insert(0, PARENT_DIR)\n\nfrom utils.ch9.plot_utils import compare_plot_lists_ax\nfrom utils.ch9.heston import predict_prices \n \ndef reverse_pnls(kwargs = None):\n    if kwargs is None: kwargs = predict_prices()\n\n    def plot_helper(xfx,**kwargs):\n        x, fx = xfx[0],xfx[1]\n        args = xfx[2]\n        compare_plot_lists({**{'listxs':x, 'listfxs':fx}, **kwargs,**args})\n\n    def graphic(**out):\n        dim = len(out['symbols'])\n        getter = out['getter']\n        f_names = ['Reverse PnLs (GEN)','errors RST']\n        reverse_pnls_gen = kwargs['reverse_pnls (GEN)']\n        reverse_pnls_hist = kwargs['reverse_pnls (HIST)']\n        pnls = kwargs['pnls']\n        pnls_var = kwargs['check pnls (GEN)']\n        pnls_hist = kwargs['check pnls (HIST)']\n\n        regular = np.linspace(0,1., pnls.shape[0])\n\n\n\n        plot_datas = [\n            [\n                [pnls for n in range(0,dim)],\n                [reverse_pnls_gen.values[:,n] for n in range(0,dim)],\n                {'labelx' : \"pnls\", 'labely' : \"reverse_pnls (GEN)\",'listlabels':list(reverse_pnls_gen.columns)}\n            ],\n            [\n                # [pnls.values[:,0],pnls.values[:,0]],\n                [pnls.values[:,0]],\n                [(pnls_var.values[:,0]-pnls.values[:,0])*1000/pnls.values[:,0].max()],\n                {'labelx' : \"pnls\", 'labely' : \"errors (BP)\",'listlabels':[\"errors\"]}\n            ]\n        ]\n        multi_plot(plot_datas,plot_helper,f_names = f_names,loc = 'upper left',prop={'size': 4}, mp_ncols=3, mp_nrows = 1, **out)\n        \n        pass\n    kwargs[\"set_fun\"] = kwargs['getter'].set_spot\n    test_y = kwargs['TestData']\n    today_price = kwargs['pricer'](kwargs['data'].values[[-1],:],**kwargs)\n    # test_y = kwargs['VaRData']\n    y = kwargs['SyntheticData']\n    Dates = get_float(test_y.index.unique())\n    y = y.loc[Dates]\n    kwargs[\"set_fun\"] = kwargs['getter'].set_time_spot\n    x = get_matrix(kwargs['pricer'](y,**kwargs)) - today_price\n    z = get_matrix(kwargs['pricer'](test_y,**kwargs)) - today_price\n    kwargs['pnls'] = pd.DataFrame(z, columns = ['pnls'], index = test_y.index)\n    \n    # We map the pnl to underlyings & we extrapolate on TestData\n    reverse_pnls_gen = Kernel(x=x, fx=y)(z=z)\n\n    # op.projection(**{**kwargs,**{'x':x,'y':x,'z':z,'fx':y}})\n    reverse_pnls_gen = pd.DataFrame(reverse_pnls_gen, columns = y.columns)\n    reverse_pnls_gen.index = test_y.index\n\n    y = kwargs['data']\n    x = get_matrix(kwargs['pricer'](y,**kwargs)) - today_price\n\n    # Same here, we get the historical values\n    reverse_pnls_hist = Kernel(x=x, fx=y)(z=z)\n    # reverse_pnls_hist = op.projection(**{**kwargs,**{'x':x,'y':x,'z':z,'fx':y}})\n    reverse_pnls_hist = pd.DataFrame(reverse_pnls_hist, columns = y.columns)\n    reverse_pnls_hist.index = test_y.index\n    # test = reverse_pnls-y\n    kwargs['reverse_pnls (HIST)']= reverse_pnls_hist\n    kwargs['reverse_pnls (GEN)']= reverse_pnls_gen\n    kwargs['exact_reverse_pnls']= y\n    kwargs['check pnls (HIST)'] = pd.DataFrame(get_matrix(kwargs['pricer'](reverse_pnls_hist,**kwargs)), columns = ['pnls'], index = test_y.index)- today_price\n    kwargs['check pnls (GEN)'] = pd.DataFrame(get_matrix(kwargs['pricer'](reverse_pnls_gen,**kwargs)), columns = ['pnls'], index = test_y.index)- today_price\n    pnls = kwargs['pnls']\n    error1 = (kwargs['check pnls (HIST)'] - pnls)/(kwargs['check pnls (HIST)'] + pnls)\n    error2 = (kwargs['check pnls (GEN)'] - pnls)/(kwargs['check pnls (GEN)'] + pnls)\n    kwargs['graphic']= graphic\n\n    pnl_values = [-3.40,-0.01] # test bench for particular values\n    for value in pnl_values:\n        min_indice = abs(kwargs['pnls'].values - value).argmin()\n        min_value = kwargs['pnls'].values[min_indice]\n        proba = kwargs['pnls'].sort_values(by=[\"pnls\"]) \n        proba = ( abs(proba.to_numpy() - value).argmin()+1) / proba.shape[0]\n        min_hist = kwargs['check pnls (HIST)'].values[min_indice]\n        min_gen = kwargs['check pnls (GEN)'].values[min_indice]\n        min_sj_gen = kwargs['reverse_pnls (GEN)'].values[min_indice]\n        min_sj_hist = kwargs['reverse_pnls (HIST)'].values[min_indice]\n\n\n    return kwargs\n\nkwargs = reverse_pnls()\nkwargs['graphic'](**kwargs)\nplt.show()"
      ]
    }
  ],
  "metadata": {
    "kernelspec": {
      "display_name": "Python 3",
      "language": "python",
      "name": "python3"
    },
    "language_info": {
      "codemirror_mode": {
        "name": "ipython",
        "version": 3
      },
      "file_extension": ".py",
      "mimetype": "text/x-python",
      "name": "python",
      "nbconvert_exporter": "python",
      "pygments_lexer": "ipython3",
      "version": "3.9.13"
    }
  },
  "nbformat": 4,
  "nbformat_minor": 0
}