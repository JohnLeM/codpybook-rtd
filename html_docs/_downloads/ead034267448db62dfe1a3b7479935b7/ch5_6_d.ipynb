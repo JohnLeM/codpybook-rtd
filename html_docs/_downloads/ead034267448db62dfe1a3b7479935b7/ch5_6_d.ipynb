{
  "cells": [
    {
      "cell_type": "markdown",
      "metadata": {},
      "source": [
        "\n# 5.6.d Exploration Data Analysis of the Latent Space: Spherical Data\n\nThis section introduces the concept of partition of unity in the context of\nkernel methods and how CodPy implements it via projection operators.\n\n## Overview\n"
      ]
    },
    {
      "cell_type": "code",
      "execution_count": null,
      "metadata": {
        "collapsed": false
      },
      "outputs": [],
      "source": [
        "import numpy as np\nimport pandas as pd\nfrom matplotlib import pyplot as plt\n\nfrom codpy import core\nfrom codpy.kernel import Kernel, KernelClassifier, Sampler\n\n\ndef sphere_sampling(center, radius, size, epsilon=0.01):\n    from numpy import linalg as la\n\n    samples = np.random.normal(size=size)\n    noise = np.random.normal(size=size) * epsilon\n    for n in range(samples.shape[0]):\n        samples[n] *= radius / la.norm(samples[n])\n    samples += noise\n    samples += center\n    return samples\n\n\ndef generate_sphere_data(N=500, D=2, centers=[[0, 1], [0, 0.5]], radius=1.0):\n    num_clusters = len(centers)\n    samples_list = []\n    labels = []\n\n    for idx, center in enumerate(centers):\n        size = (N // num_clusters, D)\n        samples = sphere_sampling(center=np.array(center), radius=radius, size=size)\n        samples_list.append(samples)\n        labels.extend([idx] * (N // num_clusters))\n\n    X = np.vstack(samples_list)\n    df = pd.DataFrame(X, columns=[f\"dim_{i}\" for i in range(D)])\n    labels = pd.Series(labels, name=\"label\")\n    return df, labels\n\n\ndef scatter_plot_multiple(dfs, titles, figsize=(14, 3.5)):\n    \"\"\"\n    Plots a row of scatter plots, with special label visualization for latent variables.\n    \"\"\"\n\n    fig, axes = plt.subplots(1, len(dfs), figsize=figsize)\n    if len(dfs) == 1:\n        axes = [axes]\n\n    for ax, df, title in zip(axes, dfs, titles):\n        if title == \"Latent Representation\":\n            # Show label predictions as a 1D classification result\n            ax.scatter(df.values[:,0], df[\"label\"], c=df[\"label\"], cmap=\"viridis\", s=10)\n            ax.set_ylabel(\"Label values\")\n            ax.set_xlabel(\"Latent values\")\n        else:\n            sc = ax.scatter(\n                df[\"dim_0\"],\n                df[\"dim_1\"],\n                c=df[\"label\"],\n                cmap=\"viridis\",\n                alpha=0.6,\n                edgecolor=\"k\",\n                linewidth=0.2,\n            )\n            ax.set_xlabel(\"dim_0\")\n            ax.set_ylabel(\"dim_1\")\n            # Optional: show color bar\n            cbar = plt.colorbar(sc, ax=ax, shrink=0.75)\n            cbar.set_label(\"Label\")\n\n        ax.set_title(title, fontsize=10)\n\n    plt.tight_layout()\n    plt.show()\n\n\ndef simple_hot_encoder(y_label,num_classes=None):\n    y_label = np.asarray(y_label)\n    if num_classes is None:\n        num_classes = np.max(y_label) + 1\n    out = np.zeros((y_label.shape[0], num_classes))\n    out[np.arange(y_label.shape[0]), y_label] = 1\n    return out\n\n\ndef assign_labels_by_projection(circles, latent, z, latent_label, sampler, **kwargs):\n    \"\"\"\n    Assign labels to latent and sampled points using kernel class + softmaxindice.\n    \"\"\"\n\n    # 1. Encode original labels\n    fx_encoded = simple_hot_encoder(latent_label)  # fx_encoded shape: (N, C)\n\n    kernel = KernelClassifier(\n        x = circles,\n        fx=fx_encoded,\n        set_kernel=core.kernel_setter(\"maternnorm\", \"standardmean\"),\n        clip=None\n    )\n    # 2. Projection of latent points\n    latent_proj = kernel(sampler(z=latent))\n\n    # 3. Projection of sampled points\n    variate_proj = kernel(z=z)\n\n    return latent_proj.argmax(1), variate_proj.argmax(1)\n\n\ndef run_sampler_on_sphere_with_projection(method = \"combinatorial\"):\n    # Generate original data\n    y_df, y_labels = generate_sphere_data(\n        N=499, D=2, centers=[[0, 1], [0, 0.5]], radius=1.0\n    )\n    circles = y_df.values\n    # Fit the sampler\n    sampler = Sampler(x=circles, latent_generator = lambda n: np.array(range(n))/n, distance = \"norm22\", method=method)\n    # sampler = Sampler(x=circles, latent_generator = lambda n: np.array(range(n))/n, distance = \"norm22\")\n    # sampler = Sampler(x=circles,iter=10,latent_dim=1)\n    import matplotlib.pyplot as plt\n    plt.scatter(sampler.get_fx()[:, 0], sampler.get_fx()[:, 1], color='red', label=\"original distrib.\")\n    plt.plot(sampler.get_fx()[:, 0], sampler.get_fx()[:, 1], alpha=0.5,color='black', label=\"latent connection.\")\n    plt.ylabel(\"y\")\n    plt.xlabel(\"x\")\n    plt.title(\"Parametrization of Original Data\")\n    plt.legend()\n\n    plt.show()\n    # New generated samples\n    uniform = np.random.uniform(size=(500, 1))\n    variate = pd.DataFrame(\n        sampler(uniform), columns=[f\"dim_{i}\" for i in range(circles.shape[1])]\n    )\n    # Latent\n    latent = sampler.get_x()\n    latent = pd.DataFrame(\n        latent, columns=[f\"dim_{i}\" for i in range(latent.shape[1])]\n    )\n    # Reconstructed\n\n    y_recon = pd.DataFrame(sampler.get_fx(), columns=[f\"dim_{i}\" for i in range(circles.shape[1])])\n    # Classifier\n    fx_encoded = simple_hot_encoder(y_labels.values)  # fx_encoded shape: (N, C)\n\n    kernel = KernelClassifier(\n        x = circles,\n        fx=fx_encoded,\n        set_kernel=core.kernel_setter(\"maternnorm\", \"standardmean\"),\n        clip=None\n    )\n    # 2. Latent labels\n    latent_label=kernel(y_recon.values).argmax(1)\n\n    # 3. Projection of sampled points\n    variate_label = kernel(variate.values).argmax(1)\n\n    # Assign labels\n\n    # Attach labels\n    latent[\"label\"] = latent_label\n    y_recon[\"label\"] = latent_label\n    variate[\"label\"] = variate_label\n    original = y_df.copy()\n    original[\"label\"] = y_labels\n\n    scatter_plot_multiple(\n        [original, latent, y_recon, variate],\n        titles=[\n            \"Original Data\",\n            \"Latent Representation\",\n            \"Reconstructed\",\n            \"Generated Samples\",\n        ],\n    )\n\n\n# core.KerInterface.set_verbose()\nrun_sampler_on_sphere_with_projection(method = \"OT\")\npass"
      ]
    }
  ],
  "metadata": {
    "kernelspec": {
      "display_name": "Python 3",
      "language": "python",
      "name": "python3"
    },
    "language_info": {
      "codemirror_mode": {
        "name": "ipython",
        "version": 3
      },
      "file_extension": ".py",
      "mimetype": "text/x-python",
      "name": "python",
      "nbconvert_exporter": "python",
      "pygments_lexer": "ipython3",
      "version": "3.9.13"
    }
  },
  "nbformat": 4,
  "nbformat_minor": 0
}