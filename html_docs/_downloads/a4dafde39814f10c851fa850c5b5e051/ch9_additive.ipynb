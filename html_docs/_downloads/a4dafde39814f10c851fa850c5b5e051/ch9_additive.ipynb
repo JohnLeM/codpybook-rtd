{
  "cells": [
    {
      "cell_type": "markdown",
      "metadata": {},
      "source": [
        "\n# 9.06 Additive noise map\nWe reproduce here the figure 9.6 of the book.\nUtilitary functions can be found next to this file. Here, we only define codpy-related functions.\n"
      ]
    },
    {
      "cell_type": "markdown",
      "metadata": {},
      "source": [
        "## Necessary Imports\n\n"
      ]
    },
    {
      "cell_type": "code",
      "execution_count": null,
      "metadata": {
        "collapsed": false
      },
      "outputs": [],
      "source": [
        "import os\nimport sys\n\nimport matplotlib.pyplot as plt\nimport numpy as np\n\nfrom codpy.kernel import Sampler\n\ntry:\n    CURRENT_DIR = os.path.dirname(os.path.abspath(__file__))\nexcept NameError:\n    CURRENT_DIR = os.getcwd()\ndata_path = os.path.join(CURRENT_DIR, \"data\")\nPARENT_DIR = os.path.abspath(os.path.join(CURRENT_DIR, \"..\"))\nsys.path.insert(0, PARENT_DIR)\n\nimport utils.ch9.mapping as maps\nfrom utils.ch9.data_utils import stats_df\nfrom utils.ch9.market_data import retrieve_market_data\nfrom utils.ch9.path_generation import generate_paths\nfrom utils.ch9.plot_utils import display_historical_vs_generated_distribution"
      ]
    },
    {
      "cell_type": "markdown",
      "metadata": {},
      "source": [
        "## Parameter definition\n\n"
      ]
    },
    {
      "cell_type": "code",
      "execution_count": null,
      "metadata": {
        "collapsed": false
      },
      "outputs": [],
      "source": [
        "def get_cdpres_param():\n    return {\n        \"rescale_kernel\": {\"max\": 2000, \"seed\": None},\n        \"rescale\": True,\n        \"grid_projection\": True,\n        \"reproductibility\": False,\n        \"date_format\": \"%d/%m/%Y\",\n        \"begin_date\": \"01/06/2020\",\n        \"end_date\": \"01/06/2022\",\n        \"today_date\": \"01/06/2022\",\n        \"symbols\": [\"AAPL\", \"GOOGL\", \"AMZN\"],\n    }"
      ]
    },
    {
      "cell_type": "markdown",
      "metadata": {},
      "source": [
        "## Get the market data\n\n"
      ]
    },
    {
      "cell_type": "code",
      "execution_count": null,
      "metadata": {
        "collapsed": false
      },
      "outputs": [],
      "source": [
        "params = retrieve_market_data()"
      ]
    },
    {
      "cell_type": "markdown",
      "metadata": {},
      "source": [
        "## Defining the map\nThe additive noise map is defined as:\n$$\\eta_Y(\\varepsilon) = \\varepsilon - f(Y), \\qquad \\varepsilon = \\eta_Y^{-1}(\\eta) = \\eta + f(Y),$$\nWhere, $\\eta_Y$ is a white noise, that is an independent random variable, and\n$f : \\mathbb{R}^{D_Y} \\to \\mathbb{R}^{D_{\\varepsilon}}$ is a smooth function modeling the dependence of $\\varepsilon$ on $Y$. If unknown, $f$ can be estimated from historical data using the denoising algorithm\n\n"
      ]
    },
    {
      "cell_type": "code",
      "execution_count": null,
      "metadata": {
        "collapsed": false
      },
      "outputs": [],
      "source": [
        "params[\"map\"] = maps.composition_map(\n    [maps.additive_noise_map(), maps.log_map, maps.remove_time()]\n)\nparams = maps.apply_map(params)"
      ]
    },
    {
      "cell_type": "markdown",
      "metadata": {},
      "source": [
        "## We define our sampler on the mapped data using codpy's Sampler\nYou can define your own latent generator function, here we use a simple uniform distribution.\nBut if not provided, a default one will be used by the Sampler class.\n\n"
      ]
    },
    {
      "cell_type": "code",
      "execution_count": null,
      "metadata": {
        "collapsed": false
      },
      "outputs": [],
      "source": [
        "mapped_data = params[\"transform_h\"].values\ngenerator = lambda n: np.random.uniform(size=(n, mapped_data.shape[1]))\nsampler = Sampler(mapped_data, latent_generator=generator)\nparams[\"sampler\"] = sampler"
      ]
    },
    {
      "cell_type": "markdown",
      "metadata": {},
      "source": [
        "## We plot the original distribution vs the generated one\n\n"
      ]
    },
    {
      "cell_type": "code",
      "execution_count": null,
      "metadata": {
        "collapsed": false
      },
      "outputs": [],
      "source": [
        "params = display_historical_vs_generated_distribution(params)\nparams[\"graphic\"](params)\nplt.show()"
      ]
    },
    {
      "cell_type": "markdown",
      "metadata": {},
      "source": [
        "## Reproductibility test\nWe regenerate the same path by generating from the latent representation\nWe make sure we get the original data back.\n\n"
      ]
    },
    {
      "cell_type": "code",
      "execution_count": null,
      "metadata": {
        "collapsed": false
      },
      "outputs": [],
      "source": [
        "params[\"reproductibility\"] = True\nparams = generate_paths(params)\nparams[\"graphic\"](params)\nplt.show()"
      ]
    },
    {
      "cell_type": "markdown",
      "metadata": {},
      "source": [
        "## We now generate a new set of 10 paths\n\n"
      ]
    },
    {
      "cell_type": "code",
      "execution_count": null,
      "metadata": {
        "collapsed": false
      },
      "outputs": [],
      "source": [
        "params[\"reproductibility\"] = False\nparams[\"Nz\"] = 100\nparams = generate_paths(params)\nparams[\"graphic\"](params)\nplt.show()\n\nstats = stats_df(params[\"transform_h\"], params[\"transform_g\"]).T\nprint(stats)"
      ]
    }
  ],
  "metadata": {
    "kernelspec": {
      "display_name": "Python 3",
      "language": "python",
      "name": "python3"
    },
    "language_info": {
      "codemirror_mode": {
        "name": "ipython",
        "version": 3
      },
      "file_extension": ".py",
      "mimetype": "text/x-python",
      "name": "python",
      "nbconvert_exporter": "python",
      "pygments_lexer": "ipython3",
      "version": "3.9.13"
    }
  },
  "nbformat": 4,
  "nbformat_minor": 0
}