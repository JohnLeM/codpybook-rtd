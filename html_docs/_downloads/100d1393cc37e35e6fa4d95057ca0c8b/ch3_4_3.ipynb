{
  "cells": [
    {
      "cell_type": "markdown",
      "metadata": {},
      "source": [
        "\n# 3.4.3  Inverse Laplace operator\n\nThe inverse Laplace operator is a useful tool in many fluid mechanics,\nimage processing, signal filtering etc. In the CodPy framework, this operator is implemented\nas the pseudo-inverse of the Laplacian matrix built from a kernel.\n\n## Overview\n\nThe Laplacian operator $\\Delta_k$ is defined in CodPy via kernel methods\nas a matrix $\\Delta_k(X, Y) \\in \\mathbb{R}^{N_x \\times N_x}$ constructed\nfrom a set of input points $X$ (and optionally $Y$). It generalizes the\nclassical Laplacian to the setting of RKHS.\n\nThe **inverse Laplacian** is simply the matrix inverse (or pseudo-inverse)\nof this operator:\n\n$$\n\\Delta_k^{-1}(X, Y) =\n\\left( \\Delta_k(X, Y) \\right)^{-1}\n\\in \\mathbb{R}^{N_x \\times N_x}\n$$\n\nThis operator provides a way to \"undo\" the effect of the Laplacian on a\nfunction. It is particularly useful when solving elliptic partial differential\nequations.\n\n## CodPy Implementation\n"
      ]
    },
    {
      "cell_type": "code",
      "execution_count": null,
      "metadata": {
        "collapsed": false
      },
      "outputs": [],
      "source": [
        "# Importing necessary modules\nimport os\nimport sys\n\nfrom matplotlib import pyplot as plt\n\ncurr_f = os.path.join(os.getcwd(), \"codpy-book\", \"utils\")\nsys.path.insert(0, curr_f)\n\n\nimport numpy as np\n\n# from codpy.plotting import plot1D\n# Lets import multi_plot function from codpy utils\nfrom codpy.plot_utils import multi_plot\n\n\n# Define the sinusoidal function\ndef periodic_fun(x):\n    \"\"\"\n    A sinusoidal function that generates a sum of sines based on the input ``x``.\n    \"\"\"\n    from math import pi\n\n    sinss = np.cos(2 * x * pi)\n    if x.ndim == 1:\n        sinss = np.prod(sinss, axis=0)\n        ress = np.sum(x, axis=0)\n    else:\n        sinss = np.prod(sinss, axis=1)\n        ress = np.sum(x, axis=1)\n    return ress + sinss\n\n\ndef nabla_my_fun(x):\n    from math import pi\n\n    import numpy as np\n\n    sinss = np.cos(2 * x * pi)\n    if x.ndim == 1:\n        sinss = np.prod(sinss, axis=0)\n        D = len(x)\n        out = np.ones((D))\n\n        def helper(d):\n            out[d] += 2.0 * sinss * pi * np.sin(2 * x[d] * pi) / np.cos(2 * x[d] * pi)\n\n        [helper(d) for d in range(0, D)]\n    else:\n        sinss = np.prod(sinss, axis=1)\n        N = x.shape[0]\n        D = x.shape[1]\n        out = np.ones((N, D))\n\n        def helper(d):\n            out[:, d] += (\n                2.0 * sinss * pi * np.sin(2 * x[:, d] * pi) / np.cos(2 * x[:, d] * pi)\n            )\n\n        [helper(d) for d in range(0, D)]\n    return out\n\n\n# Function to generate periodic data\ndef generate_periodic_data_cartesian(size_x, size_z, fun=None, nabla_fun=None):\n    \"\"\"\n    Generates 2D structured Cartesian grid data for x and z domains,\n    and evaluates a given function and optionally its gradient.\n\n    Parameters:\n    - size_x: number of points per axis for x (grid will be size_x^2)\n    - size_z: number of points per axis for z (grid will be size_z^2)\n    - fun: function to evaluate at each point\n    - nabla_fun: optional gradient function to evaluate\n\n    Returns:\n    - x, z: 2D Cartesian grids of shape (N, 2)\n    - fx, fz: function values at x and z\n    - nabla_fx, nabla_fz (if nabla_fun is provided)\n    \"\"\"\n\n    def cartesian_grid(size, box):\n        lin = [np.linspace(box[0, d], box[1, d], size) for d in range(2)]\n        X, Y = np.meshgrid(*lin)\n        return np.stack([X.ravel(), Y.ravel()], axis=1)\n\n    # Define domain boxes\n    X_box = np.array([[-1, -1], [1, 1]])\n    Z_box = np.array([[-1.5, -1.5], [1.5, 1.5]])\n\n    # Generate Cartesian grids\n    x = cartesian_grid(size_x, X_box)\n    z = cartesian_grid(size_z, Z_box)\n\n    # Function evaluations\n    fx = fun(x).reshape(-1, 1) if fun else None\n    fz = fun(z).reshape(-1, 1) if fun else None\n\n    if nabla_fun:\n        nabla_fx = nabla_fun(x)\n        nabla_fz = nabla_fun(z)\n        return x, fx, z, fz, nabla_fx, nabla_fz\n\n    return x, fx, z, fz\n\n\n# Lets define helper function to plot 3D projection of the function\ndef plot_trisurf(xfx, ax, legend=\"\", elev=90, azim=-100, **kwargs):\n    from matplotlib import cm\n\n    \"\"\"\n    Helper function to plot a 3D surface using a trisurf plot.\n\n    Parameters:\n    - xfx: A tuple containing the x-coordinates (2D points) and their \n      corresponding function values.\n    - ax: The matplotlib axis object for plotting.\n    - legend: The legend/title for the plot.\n    - elev, azim: Elevation and azimuth angles for the 3D view.\n    - kwargs: Additional keyword arguments for further customization.\n    \"\"\"\n\n    xp, fxp = xfx[0], xfx[1]\n    x, fx = xp, fxp\n\n    X, Y = x[:, 0], x[:, 1]\n    Z = fx.flatten()\n    ax.plot_trisurf(X, Y, Z, antialiased=False, cmap=cm.jet)\n    ax.view_init(azim=azim, elev=elev)\n    ax.title.set_text(legend)\n\n\n# import CodPy's core module and Kernel class\nfrom codpy import core\nfrom codpy.kernel import Kernel"
      ]
    },
    {
      "cell_type": "markdown",
      "metadata": {},
      "source": [
        "Inverse Laplace operator\n In the experiments below, we will compare the original function with the\n result of applying the inverse Laplace operator to the function and then\n applying the Laplace operator again. This should yield the original function\n back, demonstrating the operator's effectiveness:\n $$\n \\\\Delta_k^{-1}(\\\\Delta_k(f)) = f\n $$\n\n########################################################################\n\n"
      ]
    },
    {
      "cell_type": "code",
      "execution_count": null,
      "metadata": {
        "collapsed": false
      },
      "outputs": [],
      "source": [
        "def fun_Delta1(size_x=50, size_y=50):\n    x, fx, z, fz, _, nabla_fz = generate_periodic_data_cartesian(\n        size_x, size_y, periodic_fun, nabla_fun=nabla_my_fun\n    )\n\n    nabla_fz = nabla_fz.reshape(-1, 2, 1)\n\n    kernel_ptr = Kernel(\n        x=x, fx=fx, set_kernel=core.kernel_setter(\"tensornorm\", \"scale_to_unitcube\")\n    ).get_kernel()\n\n    temp = core.DiffOps.nabla_t_nabla_inv(\n        x=x,\n        y=x,\n        fx=core.DiffOps.nabla_t_nabla(x=x, y=x, fx=fx, kernel_ptr=kernel_ptr),\n        kernel_ptr=kernel_ptr,\n        order=2,\n        regularization=1e-8,\n    )\n    multi_plot(\n        [(x, fx), (x, temp)],\n        plot_trisurf,\n        projection=\"3d\",\n        mp_nrows=1,\n        mp_figsize=(12, 3),\n        mp_title=[\n            \"Comparison between original function to the product of Laplace and its inverse\"\n        ],\n    )\n    plt.show()\n\n\nfun_Delta1()"
      ]
    },
    {
      "cell_type": "markdown",
      "metadata": {},
      "source": [
        "Inverse Laplace operator\n In the experiments below, we will compare the original function with the\n result of applying the inverse Laplace operator to the function and then\n applying the Laplace operator again. This should yield the original function\n back, demonstrating the operator's effectiveness:\n $$\n \\\\Delta_k(\\\\Delta_k^{-1}(f)) = f\n $$\n\n Since the Laplace operator is associative, they should be equal.\n\n########################################################################\n\n"
      ]
    },
    {
      "cell_type": "code",
      "execution_count": null,
      "metadata": {
        "collapsed": false
      },
      "outputs": [],
      "source": [
        "def fun_Delta2(size_x=50, size_y=50):\n    x, fx, z, fz, _, nabla_fz = generate_periodic_data_cartesian(\n        size_x, size_y, periodic_fun, nabla_fun=nabla_my_fun\n    )\n\n    nabla_fz = nabla_fz.reshape(-1, 2, 1)\n\n    kernel_ptr = Kernel(\n        x=x, fx=fx, set_kernel=core.kernel_setter(\"tensornorm\", \"scale_to_unitcube\")\n    ).get_kernel()\n\n    temp = core.DiffOps.nabla_t_nabla_inv(\n        x=x, y=x, fx=fx, kernel_ptr=kernel_ptr, order=2, regularization=1e-8\n    )\n    temp = core.DiffOps.nabla_t_nabla(\n        x=x, y=x, fx=temp, kernel_ptr=kernel_ptr, order=2, regularization=1e-8\n    )\n    multi_plot(\n        [(x, fx), (x, temp)],\n        plot_trisurf,\n        projection=\"3d\",\n        mp_nrows=1,\n        mp_figsize=(12, 3),\n        mp_title=[\n            \"Comparison between original function and the product of the inverse of the Laplace operator and the Laplace operator\"\n        ],\n    )\n    plt.show()\n\n\nfun_Delta2()"
      ]
    }
  ],
  "metadata": {
    "kernelspec": {
      "display_name": "Python 3",
      "language": "python",
      "name": "python3"
    },
    "language_info": {
      "codemirror_mode": {
        "name": "ipython",
        "version": 3
      },
      "file_extension": ".py",
      "mimetype": "text/x-python",
      "name": "python",
      "nbconvert_exporter": "python",
      "pygments_lexer": "ipython3",
      "version": "3.9.13"
    }
  },
  "nbformat": 4,
  "nbformat_minor": 0
}