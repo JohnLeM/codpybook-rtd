{
  "cells": [
    {
      "cell_type": "markdown",
      "metadata": {},
      "source": [
        "\n# 7.06 Automatic Differentiation\nWe reproduce here the figures 7.9, 7.10 & 7.11 of the book.\nUtilitary functions can be found next to this file. Here, we only define codpy-related functions.\n"
      ]
    },
    {
      "cell_type": "markdown",
      "metadata": {},
      "source": [
        "## Necessary Imports\n\n"
      ]
    },
    {
      "cell_type": "code",
      "execution_count": null,
      "metadata": {
        "collapsed": false
      },
      "outputs": [],
      "source": [
        "import os \nimport sys \n\nimport matplotlib.pyplot as plt \nimport torch \n\ntry:\n    CURRENT_DIR = os.path.dirname(os.path.abspath(__file__))\nexcept NameError:\n    CURRENT_DIR = os.getcwd()\ndata_path = os.path.join(CURRENT_DIR, \"data\")\nPARENT_DIR = os.path.abspath(os.path.join(CURRENT_DIR, \"..\"))\nsys.path.insert(0, PARENT_DIR)\n\nfrom utils.ch7.ch7_utils import testAAD, differentialMlBenchmarks, taylor_test, get_param21,get_param22"
      ]
    },
    {
      "cell_type": "markdown",
      "metadata": {},
      "source": [
        "## AAD \nThe first figure displays the computation of first- and second-order derivatives of a function $f(X)=\\frac{1}{6}X^3$ using AAD.\n\n"
      ]
    },
    {
      "cell_type": "code",
      "execution_count": null,
      "metadata": {
        "collapsed": false
      },
      "outputs": [],
      "source": [
        "testAAD(lambda x: 1/6 * x**3, torch.randn((100,1), requires_grad=True))\nplt.show()"
      ]
    },
    {
      "cell_type": "markdown",
      "metadata": {},
      "source": [
        "## 1 dimensional differential machines\nHere, we illustrate a general multi-dimensional benchmark of two differential machines methods. \nThe first one uses the kernel gradient operator. \nThe second one uses a neural network defined with Pytorch together with AAD tools.\n\n"
      ]
    },
    {
      "cell_type": "code",
      "execution_count": null,
      "metadata": {
        "collapsed": false
      },
      "outputs": [],
      "source": [
        "differentialMlBenchmarks(D=1,N=500)\nplt.show()"
      ]
    },
    {
      "cell_type": "markdown",
      "metadata": {},
      "source": [
        "## 2 dimensional differential machines\nWe perform the same benchmark in 2 dimensions below: \n\n"
      ]
    },
    {
      "cell_type": "code",
      "execution_count": null,
      "metadata": {
        "collapsed": false
      },
      "outputs": [],
      "source": [
        "differentialMlBenchmarks(D=2,N=500)\nplt.show()"
      ]
    },
    {
      "cell_type": "markdown",
      "metadata": {},
      "source": [
        "## Taylor expansions and differential machines\nWe approximate up to second order $\\nabla f(x)$,$\\nabla^2 f(x)$ with\n$$\\nabla f_x = \\nabla_Z \\mathcal{P}_m\\big(X,Y,Z=x,f(X)\\big), \\nabla^2 f_x = \\nabla^2_Z \\mathcal{P}_m\\big(X,Y,Z=x,f(X)\\big)$$\n\n"
      ]
    },
    {
      "cell_type": "code",
      "execution_count": null,
      "metadata": {
        "collapsed": false
      },
      "outputs": [],
      "source": [
        "taylor_test(**get_param22(),taylor_order = 2)\nplt.show()"
      ]
    }
  ],
  "metadata": {
    "kernelspec": {
      "display_name": "Python 3",
      "language": "python",
      "name": "python3"
    },
    "language_info": {
      "codemirror_mode": {
        "name": "ipython",
        "version": 3
      },
      "file_extension": ".py",
      "mimetype": "text/x-python",
      "name": "python",
      "nbconvert_exporter": "python",
      "pygments_lexer": "ipython3",
      "version": "3.9.13"
    }
  },
  "nbformat": 4,
  "nbformat_minor": 0
}