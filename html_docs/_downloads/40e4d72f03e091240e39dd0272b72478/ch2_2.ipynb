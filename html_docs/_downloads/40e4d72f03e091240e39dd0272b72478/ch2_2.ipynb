{
  "cells": [
    {
      "cell_type": "markdown",
      "metadata": {},
      "source": [
        "\n# 2.2 Reproducing kernels and transformation maps\n\nIn this experiment,\n"
      ]
    },
    {
      "cell_type": "code",
      "execution_count": null,
      "metadata": {
        "collapsed": false
      },
      "outputs": [],
      "source": [
        "# Importing necessary modules\nimport os\nimport sys\n\ncurr_f = os.path.join(os.getcwd(), \"codpy-book\", \"utils\")\nsys.path.insert(0, curr_f)\n\n\nimport matplotlib.pyplot as plt\nimport numpy as np\n\n# import CodPy's core module and Kernel class\nfrom codpy import core\nfrom codpy.kernel import Kernel\n\n# from codpy.plotting import plot1D\n# Lets import multi_plot function from codpy utils\nfrom codpy.plot_utils import multi_plot, plot1D\n\n\ndef kernel_fun(x=None, kernel_name=None, D=1):\n    if x is None:\n        x = np.linspace(-3, 3, num=100)\n    y = np.zeros([1, D])\n    kernel = Kernel(\n        set_kernel=core.kernel_setter(kernel_name, None),\n        x=x,\n        order=1,\n    )\n    out = kernel.knm(x, y)\n    return out\n\n\ndef kernel_funs_plot():\n    kernel_list = [\n        \"gaussian\",\n        \"tensornorm\",\n        \"absnorm\",\n        \"matern\",\n        \"multiquadricnorm\",\n        # \"multiquadrictensor\",\n        \"sincardtensor\",\n        # \"sincardsquaretensor\",\n        # \"dotproduct\",\n        \"gaussianper\",\n        \"maternnorm\",\n        \"scalarproduct\",\n    ]\n\n    # Prepare the results for plotting each kernel\n    results = [\n        (np.linspace(-3, 3, num=100), kernel_fun(kernel_name=kernel_name).flatten())\n        for kernel_name in kernel_list\n    ]\n\n    # Legends for each kernel in the plot\n    legends = kernel_list\n\n    # Plot all kernels using multi_plot in a 4x4 grid\n    multi_plot(\n        results,\n        plot1D,\n        f_names=legends,\n        mp_nrows=3,\n        mp_ncols=3,\n        mp_figsize=(16, 12),\n    )\n\n\n# Run the experiment with CodPy and SciPy models\n# core.KerInterface.set_verbose()\nkernel_funs_plot()\nplt.show()"
      ]
    },
    {
      "cell_type": "markdown",
      "metadata": {},
      "source": [
        "**Kernel Gram matrix**\n**Positive definite kernels and kernel matrices**. A *kernel*, denoted by $k: \\mathbb{R}^D \\times \\mathbb{R}^D \\to \\mathbb{R}$, is a symmetric real-valued function, that is, satisfying $k(x, y)=k(y, x)$. Given two collections of points in $\\mathbb{R}^D$, namely $X = (x^1, \\cdots, x^{N_x})$ and $Y = (y^1, \\cdots, y^{N_y})$, we define the associated *kernel matrix* $K(X,Y) = \\big(k(x^n,y^m) \\big) \\in \\mathbb{R}^{N_x, N_y}$ by\n$$K(X, Y) =\\left( \\begin{array}{ccc} k(x^1,y^1) & \\cdots & k(x^1,y^{N_y}) \\\\ \\ddots & \\ddots & \\ddots \\\\ k(x^{N_x},y^1) & \\cdots & k(x^{N_x},y^{N_y}) \\end{array}\\right).$$\n\n\n"
      ]
    },
    {
      "cell_type": "code",
      "execution_count": null,
      "metadata": {
        "collapsed": false
      },
      "outputs": [],
      "source": [
        "import pandas as pd\n\nx = np.random.randn(10, 1)\nkernel = Kernel(\n    set_kernel=core.kernel_setter(\"gaussian\", None),\n    x=x,\n    order=1,\n)\n\n# Kernel Gram matrix\nprint(pd.DataFrame(kernel.knm(x, x)))"
      ]
    },
    {
      "cell_type": "markdown",
      "metadata": {},
      "source": [
        "**MMD Matrix**\n\nMMD matrices provide a very useful tool in order to evaluate the accuracy of a computation. To any positive kernel $k : \\mathbb{R}^D, \\mathbb{R}^D \\mapsto \\mathbb{R}$, we associate the *discrepancy function* $d_k(x,y)$ defined (for $x,y\\in\\mathbb{R}^D$) by\n$$d_k(x,y) = k(x,x) + k(y,y) - 2k(x,y)$$.\nFor positive kernels, $d_k(\\cdot,\\cdot)$ is continuous, non-negative, and satisfies the condition $d_k(x,x) = 0$ (for all relevant $x$)\n\n"
      ]
    },
    {
      "cell_type": "code",
      "execution_count": null,
      "metadata": {
        "collapsed": false
      },
      "outputs": [],
      "source": [
        "print(pd.DataFrame(kernel.kernel_distance(x)))"
      ]
    },
    {
      "cell_type": "markdown",
      "metadata": {},
      "source": [
        "Kernels 2D visualisation\n\n"
      ]
    },
    {
      "cell_type": "code",
      "execution_count": null,
      "metadata": {
        "collapsed": false
      },
      "outputs": [],
      "source": [
        "# Lets define helper function to plot 3D projection of the function\ndef plot_trisurf(xfx, ax, legend=\"\", elev=90, azim=-100, **kwargs):\n    from matplotlib import cm\n\n    \"\"\"\n    Helper function to plot a 3D surface using a trisurf plot.\n\n    Parameters:\n    - xfx: A tuple containing the x-coordinates (2D points) and their \n      corresponding function values.\n    - ax: The matplotlib axis object for plotting.\n    - legend: The legend/title for the plot.\n    - elev, azim: Elevation and azimuth angles for the 3D view.\n    - kwargs: Additional keyword arguments for further customization.\n\n    \"\"\"\n\n    xp, fxp = xfx[0], xfx[1]\n    x, fx = xp, fxp\n\n    X, Y = x[:, 0], x[:, 1]\n    Z = fx.flatten()\n    ax.plot_trisurf(X, Y, Z, antialiased=False, cmap=cm.jet)\n    ax.view_init(azim=azim, elev=elev)\n    ax.title.set_text(legend)\n\n\ndef generate2Ddata(sizes_x):\n    data_x = np.random.uniform(-1, 1, (sizes_x, 2))\n\n    kernel_list = [\n        \"gaussian\",\n        \"tensornorm\",\n        \"absnorm\",\n        \"matern\",\n        \"multiquadricnorm\",\n        # \"multiquadrictensor\",\n        \"sincardtensor\",\n        # \"sincardsquaretensor\",\n        # \"dotproduct\",\n        \"gaussianper\",\n        \"maternnorm\",\n        \"scalarproduct\",\n    ]\n\n    # Prepare the results for plotting each kernel\n    results = [\n        (data_x, kernel_fun(data_x, kernel_name, D=2).flatten())\n        for kernel_name in kernel_list\n    ]\n\n    # Legends for each kernel in the plot\n    legends = kernel_list\n\n    # Plot all kernels using multi_plot in a 4x4 grid\n    multi_plot(\n        results,\n        plot_trisurf,\n        f_names=legends,\n        mp_nrows=3,\n        mp_ncols=3,\n        mp_figsize=(12, 16),\n        elev=30,\n        projection=\"3d\",\n    )\n\n\ngenerate2Ddata(400)\nplt.show()\npass"
      ]
    }
  ],
  "metadata": {
    "kernelspec": {
      "display_name": "Python 3",
      "language": "python",
      "name": "python3"
    },
    "language_info": {
      "codemirror_mode": {
        "name": "ipython",
        "version": 3
      },
      "file_extension": ".py",
      "mimetype": "text/x-python",
      "name": "python",
      "nbconvert_exporter": "python",
      "pygments_lexer": "ipython3",
      "version": "3.9.13"
    }
  },
  "nbformat": 4,
  "nbformat_minor": 0
}