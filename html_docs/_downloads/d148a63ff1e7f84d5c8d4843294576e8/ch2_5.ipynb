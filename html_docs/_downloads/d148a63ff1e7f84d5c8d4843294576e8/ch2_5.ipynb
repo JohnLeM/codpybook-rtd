{
  "cells": [
    {
      "cell_type": "markdown",
      "metadata": {},
      "source": [
        "\n# 2.3.2 Applying maps to kernels\nIn this experiment, we show how applying different maps car ruin your results. \n"
      ]
    },
    {
      "cell_type": "code",
      "execution_count": null,
      "metadata": {
        "collapsed": false
      },
      "outputs": [],
      "source": [
        "# Importing necessary modules\nimport os\nimport sys\n\ncurr_f = os.path.join(os.getcwd(), \"codpy-book\", \"utils\")\nsys.path.insert(0, curr_f)\n\n\nimport matplotlib.pyplot as plt\nimport numpy as np\n\nfrom codpy import core\nfrom codpy.kernel import Kernel"
      ]
    },
    {
      "cell_type": "markdown",
      "metadata": {},
      "source": [
        "import CodPy's core module and Kernel class\nfrom codpy.plotting import plot1D\nLets import multi_plot function from codpy utils\n\n"
      ]
    },
    {
      "cell_type": "code",
      "execution_count": null,
      "metadata": {
        "collapsed": false
      },
      "outputs": [],
      "source": [
        "from codpy.plot_utils import multi_plot, plot1D\n\n\n# Define the sinusoidal function\ndef periodic_fun(x):\n    \"\"\"\n    A sinusoidal function that generates a sum of sines based on the input ``x``.\n    \"\"\"\n    from math import pi\n\n    sinss = np.cos(2 * x * pi)\n    if x.ndim == 1:\n        sinss = np.prod(sinss, axis=0)\n        ress = np.sum(x, axis=0)\n    else:\n        sinss = np.prod(sinss, axis=1)\n        ress = np.sum(x, axis=1)\n    return ress + sinss\n\n\ndef codpy_model(\n    x, fx, z, kernel_name=\"gaussian\", map={}, order=0, rescale=True\n):\n    kernel = Kernel(\n        set_kernel=core.kernel_setter(kernel_name, map,order),\n        x=x,\n        fx=fx,\n        order = order\n    )\n    if rescale:\n        kernel.rescale()\n    out= kernel(z)\n    return out\n\n\n# Lets define helper function to plot 3D projection of the function\ndef plot_trisurf(xfx, ax, legend=\"\", elev=90, azim=-100, **kwargs):\n    from matplotlib import cm\n\n    \"\"\"\n    Helper function to plot a 3D surface using a trisurf plot.\n\n    Parameters:\n    - xfx: A tuple containing the x-coordinates (2D points) and their \n      corresponding function values.\n    - ax: The matplotlib axis object for plotting.\n    - legend: The legend/title for the plot.\n    - elev, azim: Elevation and azimuth angles for the 3D view.\n    - kwargs: Additional keyword arguments for further customization.\n    \"\"\"\n\n    xp, fxp = xfx[0], xfx[1]\n    x, fx = xp, fxp\n\n    X, Y = x[:, 0], x[:, 1]\n    Z = fx.flatten()\n    ax.plot_trisurf(X, Y, Z, antialiased=False, cmap=cm.jet)\n    ax.view_init(azim=azim, elev=elev)\n    ax.title.set_text(legend)\n\n\ndef generate2Ddata(sizes_x):\n    data_x = np.random.uniform(-1, 1, (sizes_x, 2))\n    data_z = np.random.uniform(-1, 1, (sizes_x, 2))\n    fx = periodic_fun(data_x).reshape(-1, 1)\n    fz = periodic_fun(data_z).reshape(-1, 1)\n\n    legend = [\"Ground truth\"]\n\n    kernel_list = [\n        \"gaussian\",\n        \"matern\",\n    ]\n\n    results = [(data_z, fz)]\n    # Prepare the results for plotting each kernel\n    results += [\n        (data_z, codpy_model(data_x, fx, data_z, kernel_name,\"standardmean\"))\n        for kernel_name in kernel_list\n    ]\n\n    # Legends for each kernel in the plot\n    legends = legend + kernel_list\n\n    # Plot all kernels using multi_plot in a 4x4 grid\n    multi_plot(\n        results,\n        plot_trisurf,\n        f_names=legends,\n        mp_nrows=1,\n        mp_ncols=3,\n        mp_figsize=(12, 16),\n        projection=\"3d\",\n    )\n\n\ncore.KerInterface.set_verbose()\n# generate2Ddata(400)\n# plt.show()\n\n\ndef generate1Ddata(sizes_x):\n    data_x = np.random.uniform(-1, 1, (sizes_x, 1))\n    data_z = np.random.uniform(-1.5, 1.5, (sizes_x, 1))\n    fx = periodic_fun(data_x).reshape(-1, 1)\n    fz = periodic_fun(data_z).reshape(-1, 1)\n\n    kernel_list = [\"gaussianper\", \"matern\", \"gaussian\"]\n    order_list = [2, 2, 0]\n    map_list = [{}, \"standardmean\", \"mindistance\"]\n\n    # Prepare the results for plotting each kernel\n    results = [\n        (data_z, codpy_model(data_x, fx, data_z, kernel_name, map=map, order=order))\n        for kernel_name,order,map in zip(kernel_list,order_list,map_list)\n    ]\n\n    # Legends for each kernel in the plot\n    legends = kernel_list\n\n    # Plot all kernels using multi_plot in a 4x4 grid\n    multi_plot(\n        results,\n        plot1D,\n        f_names=legends,\n        mp_nrows=1,\n        mp_ncols=3,\n        mp_figsize=(12, 3),\n    )\n\ngenerate1Ddata(400)\nplt.show()\npass"
      ]
    }
  ],
  "metadata": {
    "kernelspec": {
      "display_name": "Python 3",
      "language": "python",
      "name": "python3"
    },
    "language_info": {
      "codemirror_mode": {
        "name": "ipython",
        "version": 3
      },
      "file_extension": ".py",
      "mimetype": "text/x-python",
      "name": "python",
      "nbconvert_exporter": "python",
      "pygments_lexer": "ipython3",
      "version": "3.9.13"
    }
  },
  "nbformat": 4,
  "nbformat_minor": 0
}