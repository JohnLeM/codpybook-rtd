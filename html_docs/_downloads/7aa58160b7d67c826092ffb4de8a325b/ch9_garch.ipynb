{
  "cells": [
    {
      "cell_type": "markdown",
      "metadata": {},
      "source": [
        "\n# 9.04 GARCH(1,1) model\nWe reproduce here the figure 9.5 of the book.\nUtilitary functions can be found next to this file. Here, we only define codpy-related functions.\n"
      ]
    },
    {
      "cell_type": "markdown",
      "metadata": {},
      "source": [
        "## Necessary Imports\n\n"
      ]
    },
    {
      "cell_type": "code",
      "execution_count": null,
      "metadata": {
        "collapsed": false
      },
      "outputs": [],
      "source": [
        "import os\nimport sys\n\nimport matplotlib.pyplot as plt\nimport numpy as np\n\nfrom codpy.kernel import Sampler\n\ntry:\n    CURRENT_DIR = os.path.dirname(os.path.abspath(__file__))\nexcept NameError:\n    CURRENT_DIR = os.getcwd()\ndata_path = os.path.join(CURRENT_DIR, \"data\")\nPARENT_DIR = os.path.abspath(os.path.join(CURRENT_DIR, \"..\"))\nsys.path.insert(0, PARENT_DIR)\n\nimport utils.ch9.mapping as maps\nfrom utils.ch9.data_utils import stats_df\nfrom utils.ch9.market_data import retrieve_market_data\nfrom utils.ch9.path_generation import generate_paths\nfrom utils.ch9.plot_utils import display_historical_vs_generated_distribution"
      ]
    },
    {
      "cell_type": "markdown",
      "metadata": {},
      "source": [
        "## Parameter definition\n\n"
      ]
    },
    {
      "cell_type": "code",
      "execution_count": null,
      "metadata": {
        "collapsed": false
      },
      "outputs": [],
      "source": [
        "def get_cdpres_param():\n    return {\n        \"rescale_kernel\": {\"max\": 2000, \"seed\": None},\n        \"rescale\": True,\n        \"grid_projection\": True,\n        \"reproductibility\": False,\n        \"date_format\": \"%d/%m/%Y\",\n        \"begin_date\": \"01/06/2020\",\n        \"end_date\": \"01/06/2022\",\n        \"today_date\": \"01/06/2022\",\n        \"symbols\": [\"AAPL\", \"GOOGL\", \"AMZN\"],\n    }"
      ]
    },
    {
      "cell_type": "markdown",
      "metadata": {},
      "source": [
        "## Get the market data\n\n"
      ]
    },
    {
      "cell_type": "code",
      "execution_count": null,
      "metadata": {
        "collapsed": false
      },
      "outputs": [],
      "source": [
        "params = retrieve_market_data()"
      ]
    },
    {
      "cell_type": "markdown",
      "metadata": {},
      "source": [
        "## Defining the map\nThe GARCH(p,q) map is defined as:\n$$\\begin{aligned}\nX^k &= \\mu + \\sigma^k \\epsilon^k, \\\\\n(\\sigma^k)^2 &= \\alpha_0 + \\sum_{i=1}^{p} \\alpha_i (X^{k-i})^2 + \\sum_{j=1}^{q} \\beta_j (\\sigma^{k-j})^2,\n\\end{aligned}$$\nwhere $\\mu \\in \\mathbb{R}$, $\\{\\epsilon^k\\}$ is a white noise sequence with unit variance, and $\\sigma^k$ is a stochastic volatility term determined recursively. \nThe parameters $\\alpha_i$ and $\\beta_i$ denote the GARCH parameters.\n\n"
      ]
    },
    {
      "cell_type": "code",
      "execution_count": null,
      "metadata": {
        "collapsed": false
      },
      "outputs": [],
      "source": [
        "q = 1\n\n\ndef garch_pq(x):\n    import numpy as np\n    from arch import arch_model\n\n    p_values = range(1, 6)\n    q_values = range(1, 6)\n    aic_values = np.full((len(p_values), len(q_values)), np.inf)\n\n    for i in p_values:\n        for j in q_values:\n            try:\n                model = arch_model(x, vol=\"Garch\", p=i, q=j)\n                results = model.fit(disp=\"off\")  # suppress convergence messages\n                aic_values[i - 1, j - 1] = results.aic\n            except:\n                continue\n\n    p, q = np.unravel_index(np.argmin(aic_values, axis=None), aic_values.shape)\n    print(f\"The smallest AIC is {aic_values[p, q]} for model GARCH({p}, {q})\")\n\n    best_p, best_q = p + 1, q + 1\n    model = arch_model(x, vol=\"Garch\", p=1, q=1)\n    results = model.fit()\n    print(results.summary())\n    a0 = results.params[\"omega\"]\n    a = [\n        results.params[f\"alpha[{i+1}]\"]\n        for i in range(best_p)\n        if f\"alpha[{i+1}]\" in results.params\n    ]\n    b = [\n        results.params[f\"beta[{i+1}]\"]\n        for i in range(best_q)\n        if f\"beta[{i+1}]\" in results.params\n    ]\n    return a, b\n\n\ndef estimate_coeff():\n    asx, bsx = [], []\n    for i in range(params[\"data\"].values.shape[1]):\n        ax, bx = garch_pq(params[\"data\"].values[:, i])\n        asx += [ax]\n        bsx += [bx]\n    return np.asarray(asx).T, np.asarray(bsx).T\n\n\nparams[\"a\"], params[\"b\"] = estimate_coeff()\nparams[\"q\"] = q\nparams[\"map\"] = maps.composition_map(\n    [maps.garch_map(), maps.mean_map(), maps.diff(), maps.log_map, maps.remove_time()]\n)\nparams = maps.apply_map(params)"
      ]
    },
    {
      "cell_type": "markdown",
      "metadata": {},
      "source": [
        "## We define our sampler on the mapped data using codpy's Sampler\nYou can define your own latent generator function, here we use a simple uniform distribution.\nBut if not provided, a default one will be used by the Sampler class.\n\n"
      ]
    },
    {
      "cell_type": "code",
      "execution_count": null,
      "metadata": {
        "collapsed": false
      },
      "outputs": [],
      "source": [
        "mapped_data = params[\"transform_h\"].values\ngenerator = lambda n: np.random.uniform(size=(n, mapped_data.shape[1]))\nsampler = Sampler(mapped_data, latent_generator=generator)\nparams[\"sampler\"] = sampler"
      ]
    },
    {
      "cell_type": "markdown",
      "metadata": {},
      "source": [
        "## We plot the original distribution vs the generated one\n\n"
      ]
    },
    {
      "cell_type": "code",
      "execution_count": null,
      "metadata": {
        "collapsed": false
      },
      "outputs": [],
      "source": [
        "params = display_historical_vs_generated_distribution(params)\nparams[\"graphic\"](params)\nplt.show()"
      ]
    },
    {
      "cell_type": "markdown",
      "metadata": {},
      "source": [
        "## Reproductibility test\nWe regenerate the same path by generating from the latent representation\nWe make sure we get the original data back.\n\n"
      ]
    },
    {
      "cell_type": "code",
      "execution_count": null,
      "metadata": {
        "collapsed": false
      },
      "outputs": [],
      "source": [
        "params[\"reproductibility\"] = True\nparams = generate_paths(params)\nparams[\"graphic\"](params)\nplt.show()"
      ]
    },
    {
      "cell_type": "markdown",
      "metadata": {},
      "source": [
        "## We now generate a new set of 10 paths\n\n"
      ]
    },
    {
      "cell_type": "code",
      "execution_count": null,
      "metadata": {
        "collapsed": false
      },
      "outputs": [],
      "source": [
        "params[\"reproductibility\"] = False\nparams[\"Nz\"] = 10\nparams = generate_paths(params)\nparams[\"graphic\"](params)\nplt.show()\n\nstats = stats_df(params[\"transform_h\"], params[\"transform_g\"]).T\nprint(stats)"
      ]
    }
  ],
  "metadata": {
    "kernelspec": {
      "display_name": "Python 3",
      "language": "python",
      "name": "python3"
    },
    "language_info": {
      "codemirror_mode": {
        "name": "ipython",
        "version": 3
      },
      "file_extension": ".py",
      "mimetype": "text/x-python",
      "name": "python",
      "nbconvert_exporter": "python",
      "pygments_lexer": "ipython3",
      "version": "3.9.13"
    }
  },
  "nbformat": 4,
  "nbformat_minor": 0
}