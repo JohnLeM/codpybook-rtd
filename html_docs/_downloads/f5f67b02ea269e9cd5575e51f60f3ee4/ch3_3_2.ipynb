{
  "cells": [
    {
      "cell_type": "markdown",
      "metadata": {},
      "source": [
        "\n# 3.3.2 Partition of unity\n\nThis section introduces the concept of partition of unity in the context of\nkernel methods and how CodPy implements it via projection operators.\n\n## Overview\n\nGiven a positive-definite kernel function $k$ and a set of input points\n$X \\in \\mathbb{R}^{N_x \\times D}$, CodPy defines a projection operator\nbased on the kernel Gram matrix. This leads to a kernel-based partition of unity\nfunction defined over a set of evaluation points $Y \\in \\mathbb{R}^{N_y \\times D}$.\n\nThe partition of unity function $\\phi$ is defined as:\n\n$$\n\\phi(Y) = K(Y, X) K(X, X)^{-1} \\in \\mathbb{R}^{N_y \\times N_x},\n$$\n\nwhere:\n    - $K(Y, X)$ is the kernel Gram matrix between $Y$ and $X$,\n    - $K(X, X)$ is the self-Gram matrix of the training set $X$,\n    - $\\phi^m(Y)$ denotes the $m$-th component function of the partition.\n\nThis operator assigns to each point $y \\in Y$ a set of weights\n$(\\phi^1(y), \\ldots, \\phi^{N_x}(y))$ corresponding to its projection onto the\nbasis functions centered at points in $X$.\n\n## Delta Property\n\nA key feature of this partition is that it interpolates exactly at the input points $x^n \\in X$.\nThat is, for all $x^n \\in X$:\n\n$$\n\\phi(x^n) = (0, \\ldots, 1, \\ldots, 0) = \\delta_{n,m},\n$$\n\nwhere $\\delta_{n,m}$ is the Kronecker delta symbol, equal to $1$ if $n = m$\nand $0$ otherwise. This ensures the projection perfectly reconstructs function values\nat the training inputs.\n\nFigure illustrates the concept with an example involving four basis points $X = \\{x^1, x^2, x^3, x^4\\}$\nand shows the corresponding four partition functions $\\phi^1(Y), \\ldots, \\phi^4(Y)$.\nEach function is peaked at its associated center and decays smoothly, yet together\nthey form a partition of unity over the domain.\n"
      ]
    },
    {
      "cell_type": "code",
      "execution_count": null,
      "metadata": {
        "collapsed": false
      },
      "outputs": [],
      "source": [
        "# Importing necessary modules\nimport os\nimport sys\n\nfrom matplotlib import pyplot as plt\n\ncurr_f = os.path.join(os.getcwd(), \"codpy-book\", \"utils\")\nsys.path.insert(0, curr_f)\n\n\nimport numpy as np\n\n# from codpy.plotting import plot1D\n# Lets import multi_plot function from codpy utils\nfrom codpy.plot_utils import multi_plot\n\n\n# Define the sinusoidal function\ndef periodic_fun(x):\n    \"\"\"\n    A sinusoidal function that generates a sum of sines based on the input ``x``.\n    \"\"\"\n    from math import pi\n\n    sinss = np.cos(2 * x * pi)\n    if x.ndim == 1:\n        sinss = np.prod(sinss, axis=0)\n        ress = np.sum(x, axis=0)\n    else:\n        sinss = np.prod(sinss, axis=1)\n        ress = np.sum(x, axis=1)\n    return ress + sinss\n\n\n# Function to generate periodic data\ndef generate_periodic_data_cartesian(size_x, size_z, fun=None, nabla_fun=None):\n    \"\"\"\n    Generates 2D structured Cartesian grid data for x and z domains,\n    and evaluates a given function and optionally its gradient.\n\n    Parameters:\n    - size_x: number of points per axis for x (grid will be size_x^2)\n    - size_z: number of points per axis for z (grid will be size_z^2)\n    - fun: function to evaluate at each point\n    - nabla_fun: optional gradient function to evaluate\n\n    Returns:\n    - x, z: 2D Cartesian grids of shape (N, 2)\n    - fx, fz: function values at x and z\n    - nabla_fx, nabla_fz (if nabla_fun is provided)\n    \"\"\"\n\n    def cartesian_grid(size, box):\n        lin = [np.linspace(box[0, d], box[1, d], size) for d in range(2)]\n        X, Y = np.meshgrid(*lin)\n        return np.stack([X.ravel(), Y.ravel()], axis=1)\n\n    # Define domain boxes\n    X_box = np.array([[-1, -1], [1, 1]])\n    Z_box = np.array([[-1.5, -1.5], [1.5, 1.5]])\n\n    # Generate Cartesian grids\n    x = cartesian_grid(size_x, X_box)\n    z = cartesian_grid(size_z, Z_box)\n\n    # Function evaluations\n    fx = fun(x).reshape(-1, 1) if fun else None\n    fz = fun(z).reshape(-1, 1) if fun else None\n\n    if nabla_fun:\n        nabla_fx = nabla_fun(x)\n        nabla_fz = nabla_fun(z)\n        return x, z, fx, fz, nabla_fx, nabla_fz\n\n    return x, fx, z, fz\n\n\n# Lets define helper function to plot 3D projection of the function\ndef plot_trisurf(xfx, ax, legend=\"\", elev=90, azim=-100, **kwargs):\n    from matplotlib import cm\n\n    \"\"\"\n    Helper function to plot a 3D surface using a trisurf plot.\n\n    Parameters:\n    - xfx: A tuple containing the x-coordinates (2D points) and their \n      corresponding function values.\n    - ax: The matplotlib axis object for plotting.\n    - legend: The legend/title for the plot.\n    - elev, azim: Elevation and azimuth angles for the 3D view.\n    - kwargs: Additional keyword arguments for further customization.\n    \"\"\"\n\n    xp, fxp = xfx[0], xfx[1]\n    x, fx = xp, fxp\n\n    X, Y = x[:, 0], x[:, 1]\n    Z = fx.flatten()\n    ax.plot_trisurf(X, Y, Z, antialiased=False, cmap=cm.jet)\n    ax.view_init(azim=azim, elev=elev)\n    ax.title.set_text(legend)\n\n\n# import CodPy's core module and Kernel class\nfrom codpy import core\nfrom codpy.kernel import Kernel\n\n\ndef fun_part():\n    \"\"\"\n    Runs the experiment applying CodPy and SciPy models on the data and plots the results.\n\n    Parameters:\n    - data_x: List of generated x arrays.\n    - data_fx: List of function values corresponding to each x.\n    - data_z: List of generated z arrays.\n    \"\"\"\n    # Apply CodPy and SciPy models for each (x, fx, z) pair\n\n    x, fx, z, fz = generate_periodic_data_cartesian(50, 50)\n\n    kernel = Kernel(\n        set_kernel=core.kernel_setter(\"tensornorm\", \"scale_to_unitcube\"),\n        x=x,\n        y=x,\n        order=2,\n        reg=1e-8,\n    )\n    partxxz = kernel(z).T\n    temp = int(np.sqrt(z.shape[0]))\n\n    multi_plot(\n        [(z, partxxz[0, :]), (z, partxxz[int(temp / 3), :])]\n        + [(z, partxxz[int(temp * 2 / 3), :]), (z, partxxz[temp - 1, :])],\n        plot_trisurf,\n        projection=\"3d\",\n        elev=30,\n        mp_nrows=1,\n        mp_figsize=(12, 3),\n    )\n    plt.show()\n\n\nfun_part()"
      ]
    }
  ],
  "metadata": {
    "kernelspec": {
      "display_name": "Python 3",
      "language": "python",
      "name": "python3"
    },
    "language_info": {
      "codemirror_mode": {
        "name": "ipython",
        "version": 3
      },
      "file_extension": ".py",
      "mimetype": "text/x-python",
      "name": "python",
      "nbconvert_exporter": "python",
      "pygments_lexer": "ipython3",
      "version": "3.9.13"
    }
  },
  "nbformat": 4,
  "nbformat_minor": 0
}