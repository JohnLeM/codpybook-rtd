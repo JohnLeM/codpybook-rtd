{
  "cells": [
    {
      "cell_type": "markdown",
      "metadata": {},
      "source": [
        "\n# 2.4 2D Periodic Function Extrapolation\n\nThis script demonstrates an experiment using CodPy and SciPy models to visualize\na 2D periodic function. It generates random data points (``x``, ``fx``) and (``z``, ``fz``),\napplies both CodPy and SciPy models, and visualizes the results using 3D plots.\n\nThe script is divided into several parts:\n\n- Data generation: Creating random periodic data for different sizes.\n- Plotting: Inline plotting of generated and modeled data.\n- Model application: Applying CodPy and SciPy models for interpolation.\n"
      ]
    },
    {
      "cell_type": "code",
      "execution_count": null,
      "metadata": {
        "collapsed": false
      },
      "outputs": [],
      "source": [
        "# Importing necessary modules\nimport os\nimport sys\nimport time \n\ncurr_f = os.path.join(os.getcwd(), \"codpy-book\", \"utils\")\nsys.path.insert(0, curr_f)\n\n\nimport matplotlib.pyplot as plt\nimport numpy as np\nfrom scipy.interpolate import Rbf\n\n# import CodPy's core module and Kernel class\nfrom codpy import core\nfrom codpy.kernel import Kernel\n\n# from codpy.plotting import plot1D\n# Lets import multi_plot function from codpy utils\nfrom codpy.plot_utils import multi_plot\n\nfrom sklearn.metrics import mean_squared_error\n\n# Define the sinusoidal function\ndef periodic_fun(x):\n    \"\"\"\n    A sinusoidal function that generates a sum of sines based on the input ``x``.\n    \"\"\"\n    from math import pi\n\n    sinss = np.cos(2 * x * pi)\n    if x.ndim == 1:\n        sinss = np.prod(sinss, axis=0)\n        ress = np.sum(x, axis=0)\n    else:\n        sinss = np.prod(sinss, axis=1)\n        ress = np.sum(x, axis=1)\n    return ress + sinss\n\n\n# Lets define helper function to plot 3D projection of the function\ndef plot_trisurf(xfx, ax, legend=\"\", elev=90, azim=-100, **kwargs):\n    from matplotlib import cm\n\n    \"\"\"\n    Helper function to plot a 3D surface using a trisurf plot.\n\n    Parameters:\n    - xfx: A tuple containing the x-coordinates (2D points) and their \n      corresponding function values.\n    - ax: The matplotlib axis object for plotting.\n    - legend: The legend/title for the plot.\n    - elev, azim: Elevation and azimuth angles for the 3D view.\n    - kwargs: Additional keyword arguments for further customization.\n    \"\"\"\n\n    xp, fxp = xfx[0], xfx[1]\n    x, fx = xp, fxp\n\n    X, Y = x[:, 0], x[:, 1]\n    Z = fx.flatten()\n    ax.plot_trisurf(X, Y, Z, antialiased=False, cmap=cm.jet)\n    ax.view_init(azim=azim, elev=elev)\n    ax.title.set_text(legend)\n\n\n# Function to generate periodic data\ndef generate_periodic_data(sizes_x, sizes_z):\n    \"\"\"\n    Generates 2D periodic data for given sizes of x and z.\n\n    Parameters:\n    - sizes_x: List of sizes for the x data.\n    - sizes_z: List of sizes for the z data.\n\n    Returns:\n    - data_x: List of generated x arrays.\n    - data_fx: List of function values corresponding to each x.\n    - data_z: List of generated z arrays.\n    - data_fz: List of function values corresponding to each z.\n    \"\"\"\n    # Generate x and z data of different sizes\n    data_x = [np.random.uniform(-1, 1, (size, 2)) for size in sizes_x]\n    data_z = [np.random.uniform(-1.5, 1.5, (size, 2)) for size in sizes_z]\n\n    # Compute fx for each x and fz for each z\n    data_fx = [periodic_fun(x).reshape(-1, 1) for x in data_x]\n    data_fz = [periodic_fun(z).reshape(-1, 1) for z in data_z]\n\n    return data_x, data_fx, data_z, data_fz\n\n\n# Function to plot the generated data points\ndef plot_x_fx_z_fz(N=1024):\n    \"\"\"\n    Inline plot of the periodic data (x, fx) and (z, fz) for a fixed size N.\n\n    Parameters:\n    - N: Size of the generated x and z arrays (default is 1024).\n    \"\"\"\n    # Generate x and z data of size N\n    x = np.random.uniform(-1, 1, (N, 2))\n    z = np.random.uniform(-1.5, 1.5, (N, 2))\n\n    # Compute fx for x and fz for z\n    fx = periodic_fun(x).reshape(-1, 1)\n    fz = periodic_fun(z).reshape(-1, 1)\n\n    # Prepare the results for plotting (x, fx) and (z, fz) pairs\n    results = [(x, fx), (z, fz)]\n\n    # Legends for the subplots, displaying the size of x and z\n    legends = [f\"Data (x, fx) with N = {N}\", f\"Data (z, fz) with N = {N}\"]\n\n    # Plot the data using multi_plot in a 1x2 grid\n    multi_plot(\n        results,\n        plot_trisurf,\n        mp_nrows=1,\n        mp_ncols=2,\n        mp_figsize=(12, 6),\n        legends=legends,\n        projection=\"3d\",\n    )\n\n\n# lets output the plot\nplot_x_fx_z_fz()"
      ]
    },
    {
      "cell_type": "markdown",
      "metadata": {},
      "source": [
        "The plot shows a sinusoidal pattern for the data generated in the cartesian coordinate system.\nThe two curves for ``x`` and ``z`` exhibits the sinusoidal variations defined by ``periodic_fun(x)``.\n\n"
      ]
    },
    {
      "cell_type": "markdown",
      "metadata": {},
      "source": [
        "**Model Setup and Training**\n\n########################################################################\n\n"
      ]
    },
    {
      "cell_type": "code",
      "execution_count": null,
      "metadata": {
        "collapsed": false
      },
      "outputs": [],
      "source": [
        "def run_experiment(data_x, data_fx, data_z):\n    \"\"\"\n    Runs the experiment applying CodPy and SciPy models on the data and plots the results.\n\n    Parameters:\n    - data_x: List of generated x arrays.\n    - data_fx: List of function values corresponding to each x.\n    - data_z: List of generated z arrays.\n    \"\"\"\n    # Apply CodPy and SciPy models for each (x, fx, z) pair\n    codpy_models = [(z, codpy_model(x, fx, z)) for x, fx, z in zip(data_x, data_fx, data_z)]\n\n    mmds_res = [np.sqrt(model.discrepancy(z)) for z, model in codpy_models] + \\\n        [None for z in data_z]\n    model_results = [\n        (z, cp_model(z)) for x, fx, z, (_,cp_model) in zip(data_x, data_fx, data_z, codpy_models)\n    ] + [(z, rbf_interpolator(x, fx, z)) for x, fx, z in zip(data_x, data_fx, data_z)]\n\n    # Titles for each subplot\n    legends = [f\"CodPy Model (N_z: {z.shape[0]})\" for z in data_z] + [\n        f\"SciPy Model (N_z: {z.shape[0]})\" for z in data_z\n    ]\n\n    # Plot the model results using multi_plot\n    multi_plot(\n        model_results,\n        plot_trisurf,\n        mp_nrows=1,\n        mp_ncols=4,\n        mp_figsize=(18, 10),\n        legends=legends,\n        projection=\"3d\",\n    )\n\n    model_functions = [codpy_pred, rbf_interpolator]\n    Nxs = [x.shape[0] for x in data_x]\n    results = {}\n    times = {}\n    mmds = {}\n    for j, Nx in enumerate(Nxs):\n        results[Nx] = {}\n        times[Nx] = {}\n        mmds [Nx] = {}\n        for i, model in enumerate(model_functions):\n            start = time.perf_counter()\n            _, f_z = model_results[j if i == 0 else j + len(data_x)]\n            mmd = mmds_res[j if i == 0 else j + len(data_x)]\n            end = time.perf_counter()\n            mmds[Nx][model.__name__] = mmd \n            results[Nx][model.__name__] = mean_squared_error(data_fz[j], f_z)\n            times[Nx][model.__name__] = end - start\n            print(f\"Model: {model.__name__}, Time taken: {end-start:.4f} seconds\")\n    \n    res = [{\"data\": results}, {\"data\": mmds}, {\"data\": times}]\n\n    def plot_one(inputs):\n        results = inputs[\"data\"]\n        ax = inputs[\"ax\"]\n        legend = inputs[\"legend\"]\n        for model_name in next(iter(results.values())).keys():\n            x_vals = sorted(results.keys())\n            y_vals = [results[x][model_name] for x in x_vals]\n            ax.plot(x_vals, y_vals, marker='o', label=model_name)\n        ax.set_xlabel('Nx')\n        ax.set_ylabel(legend)\n        ax.legend()\n        ax.grid(True)\n\n    multi_plot(\n        res, \n        plot_one, \n        mp_nrows=1,\n        mp_ncols=3,\n        legends=[\"Scores\", \"Discrepancy\", \"Times\"],\n        mp_figsize=(14, 10),\n    )\n    plt.show()\n\n# Applies CodPy's kernel-based model for interpolation.\ndef codpy_model(x, fx, z):\n    kernel = Kernel(\n        set_kernel=core.kernel_setter(\"gaussianper\", None,2,1e-9),\n        x=x,\n        fx=fx,\n        order=2,\n    )\n    return kernel \n\ndef codpy_pred(x,fx,z):\n    return codpy_model(x, fx, z)(z)\n\n# SciPy RBF Interpolator for 2D data interpolation.\ndef rbf_interpolator(x, fx, z):\n    \"\"\"\n    SciPy RBF Interpolator for 2D data interpolation.\n\n    Parameters:\n    - x: A (N, 2) array of 2D coordinates.\n    - fx: A (N, 1) array of corresponding function values.\n    - z: A (M, 2) array of new coordinates where we want to interpolate.\n\n    Returns:\n    - Interpolated function values at points in z.\n    \"\"\"\n    # Split the 2D x array into separate arrays for each dimension\n    x1, x2 = x[:, 0], x[:, 1]\n\n    # Flatten fx to be a 1D array\n    fx_flat = fx.ravel()\n\n    # Create the Rbf interpolator using the separate dimensions of x\n    rbf = Rbf(x1, x2, fx_flat, function=\"multiquadric\")\n\n    # Split the 2D z array into separate arrays for each dimension\n    z1, z2 = z[:, 0], z[:, 1]\n\n    # Return the interpolated values at points in z\n    return rbf(z1, z2).reshape(-1, 1)\n\n\n# Example Usage\nsizes_x = [484, 1024]\nsizes_z = [484, 1024]\n\n# Generate the data\ndata_x, data_fx, data_z, data_fz = generate_periodic_data(sizes_x, sizes_z)\n\n# Run the experiment with CodPy and SciPy models\nrun_experiment(data_x, data_fx, data_z)\nplt.show()\npass"
      ]
    }
  ],
  "metadata": {
    "kernelspec": {
      "display_name": "Python 3",
      "language": "python",
      "name": "python3"
    },
    "language_info": {
      "codemirror_mode": {
        "name": "ipython",
        "version": 3
      },
      "file_extension": ".py",
      "mimetype": "text/x-python",
      "name": "python",
      "nbconvert_exporter": "python",
      "pygments_lexer": "ipython3",
      "version": "3.9.13"
    }
  },
  "nbformat": 4,
  "nbformat_minor": 0
}