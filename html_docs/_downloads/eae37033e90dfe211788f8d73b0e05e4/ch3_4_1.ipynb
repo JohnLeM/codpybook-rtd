{
  "cells": [
    {
      "cell_type": "markdown",
      "metadata": {},
      "source": [
        "\n# 3.4.1 Gradient Operator\n\nThis tutorial illustrates how to approximate gradients of a multivariate function\nusing kernel-based operators provided by CodPy. It also introduces how the\nCodPy API implements these differential operators.\n\n## Overview\n\nGiven a positive-definite kernel function $k$, CodPy defines a gradient operator\n$\\nabla_k$ over sets of input points $X$:\n\n$$\n\\nabla_k f_k(\\cdot) =  \\nabla_k(\\cdot) f(X), \\quad \\nabla_k(\\cdot) = (\\nabla K)(\\cdot,X)( K(X,X) + \\epsilon R(X,X) )^{-1}\n$$\n\nwhere:\n    - $X \\in \\mathbb{R}^{N_x \\times D}$ is the training set,\n    - $Y \\in \\mathbb{R}^{N_y \\times D}$ is usually set equal to $X$,\n    - $Z \\in \\mathbb{R}^{N_z \\times D}$ is the evaluation grid,\n    - $K(X, Y)$ is the kernel Gram matrix of size $\\mathbb{R}^{N_x \\times N_y}$,\n    - $\\nabla_k \\in \\mathbb{R}^{D \\times N_z \\times N_y}$ is the kernel gradient with respect to $Z$.\n\nThis operator allows us to approximate the gradient of a function $f$ evaluated at\npoints $Z$ using:\n\n$$\n\\nabla_k f(Z) \\approx \\nabla_k(Z) \\cdot f(X)\n\\in \\mathbb{R}^{D \\times N_z \\times D_f},\n$$\n\nwhere $D_f$ is the output dimension of $f$.\n\n## Map-Modified Gradient Operators\n\nCodPy also supports applying maps $S : \\mathbb{R}^D \\mapsto \\mathbb{R}^D$ to transform\nthe operator, resulting in:\n\n$$\n\\nabla_{k \\circ S}(Z) =\n(\\nabla S)(Z) \\cdot (\\nabla_1 k)(\\cdot,S(X))( K(S(X),S(X)) + \\epsilon R(S(X),S(X)) )^{-1}\n$$\n\nwhere:\n    - $(\\nabla S)(Z) \\in \\mathbb{R}^{D \\times D \\times N_z}$ is the Jacobian of the map $S$,\n    - $( \\nabla_1 k )$ refers to the gradient with respect to the first argument of $k$.\n\n\n## Example with Periodic Function\n\nWe define a 2D periodic function $f : \\mathbb{R}^2 \\mapsto \\mathbb{R}$ as:\n\n$$\nf(\\mathbf{x}) = \\sum_{d=1}^2 x_d + \\prod_{d=1}^2 \\cos(2\\pi x_d),\n$$\n\nwhere $\\mathbf{x} = [x_1, x_2]^T$. This function is smooth and periodic \nin each input dimension. Its exact gradient is:\n\n$$\n\\nabla f(\\mathbf{x}) =\n\\begin{bmatrix}\n1 - 2\\pi \\sin(2\\pi x_1) \\cos(2\\pi x_2) \\\\\n1 - 2\\pi \\sin(2\\pi x_2) \\cos(2\\pi x_1)\n\\end{bmatrix}\n$$\n\nwhich is derived from the product rule applied to the cosine product term.\n"
      ]
    },
    {
      "cell_type": "code",
      "execution_count": null,
      "metadata": {
        "collapsed": false
      },
      "outputs": [],
      "source": [
        "# to import necessary libraries\nimport os\nimport sys\n\nfrom matplotlib import pyplot as plt\n\ncurr_f = os.path.join(os.getcwd(), \"codpy-book\", \"utils\")\nsys.path.insert(0, curr_f)\n\nimport numpy as np\n\nfrom codpy.plot_utils import multi_plot\n\n\n# Define the sinusoidal function\ndef periodic_fun(x):\n    \"\"\"\n    A sinusoidal function that generates a sum of sines based on the input ``x``.\n\n    \"\"\"\n    from math import pi\n\n    sinss = np.cos(2 * x * pi)\n    if x.ndim == 1:\n        sinss = np.prod(sinss, axis=0)\n        ress = np.sum(x, axis=0)\n    else:\n        sinss = np.prod(sinss, axis=1)\n        ress = np.sum(x, axis=1)\n    return ress + sinss\n\n\ndef nabla_my_fun(x):\n    from math import pi\n\n    import numpy as np\n\n    sinss = np.cos(2 * x * pi)\n    if x.ndim == 1:\n        sinss = np.prod(sinss, axis=0)\n        D = len(x)\n        out = np.ones((D))\n\n        def helper(d):\n            out[d] += 2.0 * sinss * pi * np.sin(2 * x[d] * pi) / np.cos(2 * x[d] * pi)\n\n        [helper(d) for d in range(0, D)]\n    else:\n        sinss = np.prod(sinss, axis=1)\n        N = x.shape[0]\n        D = x.shape[1]\n        out = np.ones((N, D))\n\n        def helper(d):\n            out[:, d] += (\n                2.0 * sinss * pi * np.sin(2 * x[:, d] * pi) / np.cos(2 * x[:, d] * pi)\n            )\n\n        [helper(d) for d in range(0, D)]\n    return out\n\n\n# Function to generate periodic data\ndef generate_periodic_data_cartesian(size_x, size_z, fun=None, nabla_fun=None):\n    \"\"\"\n    Generates 2D structured Cartesian grid data for x and z domains,\n    and evaluates a given function and optionally its gradient.\n\n    Parameters:\n    - size_x: number of points per axis for x (grid will be size_x^2)\n    - size_z: number of points per axis for z (grid will be size_z^2)\n    - fun: function to evaluate at each point\n    - nabla_fun: optional gradient function to evaluate\n\n    Returns:\n    - x, z: 2D Cartesian grids of shape (N, 2)\n    - fx, fz: function values at x and z\n    - nabla_fx, nabla_fz (if nabla_fun is provided)\n\n    \"\"\"\n\n    def cartesian_grid(size, box):\n        lin = [np.linspace(box[0, d], box[1, d], size) for d in range(2)]\n        X, Y = np.meshgrid(*lin)\n        return np.stack([X.ravel(), Y.ravel()], axis=1)\n\n    # Define domain boxes\n    X_box = np.array([[-1, -1], [1, 1]])\n    Z_box = np.array([[-1.5, -1.5], [1.5, 1.5]])\n\n    # Generate Cartesian grids\n    x = cartesian_grid(size_x, X_box)\n    z = cartesian_grid(size_z, Z_box)\n\n    # Function evaluations\n    fx = fun(x).reshape(-1, 1) if fun else None\n    fz = fun(z).reshape(-1, 1) if fun else None\n\n    if nabla_fun:\n        nabla_fx = nabla_fun(x)\n        nabla_fz = nabla_fun(z)\n        return x, fx, z, fz, nabla_fx, nabla_fz\n\n    return x, fx, z, fz\n\n\n# Lets define helper function to plot 3D projection of the function\ndef plot_trisurf(xfx, ax, legend=\"\", elev=90, azim=-100, **kwargs):\n    from matplotlib import cm\n\n    \"\"\"\n    Helper function to plot a 3D surface using a trisurf plot.\n\n    Parameters:\n    - xfx: A tuple containing the x-coordinates (2D points) and their \n      corresponding function values.\n    - ax: The matplotlib axis object for plotting.\n    - legend: The legend/title for the plot.\n    - elev, azim: Elevation and azimuth angles for the 3D view.\n    - kwargs: Additional keyword arguments for further customization.\n\n    \"\"\"\n\n    xp, fxp = xfx[0], xfx[1]\n    x, fx = xp, fxp\n\n    X, Y = x[:, 0], x[:, 1]\n    Z = fx.flatten()\n    ax.plot_trisurf(X, Y, Z, antialiased=False, cmap=cm.jet)\n    ax.view_init(azim=azim, elev=elev)\n    ax.title.set_text(legend)"
      ]
    },
    {
      "cell_type": "markdown",
      "metadata": {},
      "source": [
        "CodPy Implementation using gradient operator\n\n We use TensorNorm kernel function defined as:\n\n\n $$\n k(x, y) = \\prod_{d} \\max(1 - \\|x_d - y_d\\|, 0)\n $$\n\n and the unit cube map $S$:\n\n $$\n S(X) = \\frac{x - \\min_n{x^n} + \\frac{0.5}{N_x}}{\\alpha},\n \\quad \\alpha = \\max_n{x^n} - \\min_n{x^n}\n $$\n\n To compute the gradient of a function $f(x)$ numerically using CodPy, we need:\n to import CodPy's core module and Kernel class and initialize kernel pointer.\n\n########################################################################\n\n"
      ]
    },
    {
      "cell_type": "code",
      "execution_count": null,
      "metadata": {
        "collapsed": false
      },
      "outputs": [],
      "source": [
        "from codpy import core\nfrom codpy.kernel import Kernel\n\n\ndef fun_nabla1(size_x=50, size_y=50):\n    \"\"\"\n\n    Parameters:\n    - data_x: List of generated x arrays.\n    - data_fx: List of function values corresponding to each x.\n    - data_z: List of generated z arrays.\n\n    \"\"\"\n    # Apply CodPy and SciPy models for each (x, fx, z) pair\n\n    x, fx, z, fz, _, nabla_fz = generate_periodic_data_cartesian(\n        size_x, size_y, periodic_fun, nabla_fun=nabla_my_fun\n    )\n\n    nabla_fz = nabla_fz.reshape(-1, 2, 1)\n\n    nabla_f_x = Kernel(\n            x=x, fx=fx, set_kernel=core.kernel_setter(\"gaussianper\", None,2, 1e-8),order=2,reg=1e-8\n        ).grad(z)\n\n    multi_plot(\n        [\n            (z, nabla_fz[:, 0, :]),\n            (z, nabla_f_x[:, 0, :]),\n            (z, nabla_fz[:, 1, :]),\n            (z, nabla_f_x[:, 1, :]),\n        ],\n        plot_trisurf,\n        projection=\"3d\",\n        mp_max_items=4,\n        mp_ncols=4,\n        mp_nrows=1,\n        mp_figsize=(12, 3),\n    )\n    plt.show()\n\n\nfun_nabla1()"
      ]
    },
    {
      "cell_type": "markdown",
      "metadata": {},
      "source": [
        "CodPy Implementation using Kernel class\n\n To compute the gradient of a function $f(x)$ numerically using CodPy, we need:\n to import CodPy's core module and Kernel class and initialize kernel pointer:\n\n########################################################################\n\n"
      ]
    },
    {
      "cell_type": "code",
      "execution_count": null,
      "metadata": {
        "collapsed": false
      },
      "outputs": [],
      "source": [
        "def fun_nabla2(size_x=50, size_y=50):\n    \"\"\"\n\n    Parameters:\n    - data_x: List of generated x arrays.\n    - data_fx: List of function values corresponding to each x.\n    - data_z: List of generated z arrays.\n    \n    \"\"\"\n    # Apply CodPy and SciPy models for each (x, fx, z) pair\n\n    x, fx, z, fz, _, nabla_fz = generate_periodic_data_cartesian(\n        size_x, size_y, periodic_fun, nabla_fun=nabla_my_fun\n    )\n\n    nabla_fz = nabla_fz.reshape(-1, 2, 1)\n    kernel = Kernel(\n        set_kernel=core.kernel_setter(\"gaussianper\", None,2, 1e-8),\n        x=x,\n        fx=fx,\n        y=x,\n        order=2,\n        reg=1e-8,\n    )\n    nabla_f_x = kernel.grad(z)\n\n    multi_plot(\n        [\n            (z, nabla_fz[:, 0, :]),\n            (z, nabla_f_x[:, 0, :]),\n            (z, nabla_fz[:, 1, :]),\n            (z, nabla_f_x[:, 1, :]),\n        ],\n        plot_trisurf,\n        projection=\"3d\",\n        mp_max_items=4,\n        mp_ncols=4,\n        mp_nrows=1,\n        mp_figsize=(12, 3),\n    )\n    plt.show()\n\n\nfun_nabla2()\npass"
      ]
    }
  ],
  "metadata": {
    "kernelspec": {
      "display_name": "Python 3",
      "language": "python",
      "name": "python3"
    },
    "language_info": {
      "codemirror_mode": {
        "name": "ipython",
        "version": 3
      },
      "file_extension": ".py",
      "mimetype": "text/x-python",
      "name": "python",
      "nbconvert_exporter": "python",
      "pygments_lexer": "ipython3",
      "version": "3.9.13"
    }
  },
  "nbformat": 4,
  "nbformat_minor": 0
}