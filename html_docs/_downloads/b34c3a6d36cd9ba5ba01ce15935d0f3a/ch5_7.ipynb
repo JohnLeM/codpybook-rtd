{
  "cells": [
    {
      "cell_type": "markdown",
      "metadata": {},
      "source": [
        "\n# 5.6.e Exploration Data Analysis of the Latent Space: Spherical Data - 2\n\nIn this tutorial, we introduce the problem of conditional sampling, i.e., generating samples from a distribution \\( p(y|x) \\) using kernel-based models.\n\nWe use the ConditionnerKernel class from Codpy to perform conditional sampling on synthetic spherical data with two clusters. \nWe define a custom CircleConditionner class that inherits from ConditionerKernel and implements the sampling procedure.\n"
      ]
    },
    {
      "cell_type": "code",
      "execution_count": null,
      "metadata": {
        "collapsed": false
      },
      "outputs": [],
      "source": [
        "import numpy as np\nimport pandas as pd\n\nfrom codpy import conditioning\nimport codpy.core\nfrom codpy.kernel import Sampler\nfrom codpy.core import get_matrix\nfrom codpy.plot_utils import multi_plot,plot1D\nimport matplotlib.pyplot as plt\nfrom codpy.data_processing import hot_encoder,simple_hot_encoder\n\ndef sphere_sampling(center, radius, size, epsilon=0.01):\n    from numpy import linalg as la\n\n    samples = np.random.normal(size=size)\n    noise = np.random.normal(size=size) * epsilon\n    for n in range(samples.shape[0]):\n        samples[n] *= radius / la.norm(samples[n])\n    samples += noise\n    samples += center\n    return samples\n\ndef generate_sphere_data(N=500, D=2, centers=[[0, 1], [0, 0.5]], radius=1.0):\n    num_clusters = len(centers)\n    samples_list = []\n    labels = []\n\n    for idx, center in enumerate(centers):\n        size = (N // num_clusters, D)\n        samples = sphere_sampling(center=np.array(center), radius=radius, size=size)\n        samples_list.append(samples)\n        labels.extend([idx] * (N // num_clusters))\n\n    X = np.vstack(samples_list)\n    df = pd.DataFrame(X, columns=[f\"dim_{i}\" for i in range(D)])\n    labels = pd.Series(labels, name=\"label\")\n    return df, labels\n\ndef scatter_plot_multiple(dfs, titles, figsize=(14, 3.5)):\n    \"\"\"\n    Plots a row of scatter plots, with special label visualization for latent variables.\n    \"\"\"\n\n    fig, axes = plt.subplots(1, len(dfs), figsize=figsize)\n    if len(dfs) == 1:\n        axes = [axes]\n\n    for ax, df, title in zip(axes, dfs, titles):\n        if title == \"Latent Representation\":\n            ax.scatter(df[\"dim_1\"].values, df[\"label\"], c=df[\"label\"], cmap=\"viridis\", s=10)\n            ax.set_ylabel(\"Label values\")\n            ax.set_xlabel(\"Latent values\")\n\n            # # Show label predictions as a 1D classification result\n            # ax.scatter(df[\"dim_0\"], df[\"dim_1\"], c=df[\"label\"], cmap=\"viridis\", s=10)\n            # # plot1D(df.values[:,[1,0]].T)\n            # ax.set_ylabel(\"Predicted Label\")\n            # ax.set_xlabel(\"Sample Index\")\n        else:\n            sc = ax.scatter(\n                df[\"dim_0\"],\n                df[\"dim_1\"],\n                c=df[\"label\"],\n                cmap=\"viridis\",\n                alpha=0.6,\n                edgecolor=\"k\",\n                linewidth=0.2,\n            )\n            ax.set_xlabel(\"dim_0\")\n            ax.set_ylabel(\"dim_1\")\n            # Optional: show color bar\n            cbar = plt.colorbar(sc, ax=ax, shrink=0.75)\n            cbar.set_label(\"Label\")\n\n        ax.set_title(title, fontsize=10)\n\n    plt.tight_layout()\n    plt.show()\nclass CircleConditionner(conditioning.ConditionerKernel):\n    def __init__(\n        self,\n        x,\n        **kwargs,\n    ):\n        \"\"\"\n        CircleConditionner is a specific implementation of ConditionerKernel that generates samples\n        from a normal distribution conditioned on a circle in the latent space.\n        Parameters:\n            x (pd.DataFrame): Input data for conditioning.\n            **kwargs: Additional keyword arguments for ConditionerKernel.\n        \"\"\"\n        \n        latent_dim_y = 1\n        x = hot_encoder(pd.DataFrame(x),cat_cols_include={0})\n        super().__init__(\n            x=x,\n            latent_generator_x=None,\n            latent_generator_y=None,\n            latent_dim_y=latent_dim_y,\n            **kwargs,\n        )   \n    def sample(self, x, n, **kwargs):\n        \"\"\"\n        Sample from the conditioned distribution.\n        Parameters:\n            x (pd.DataFrame): Input data for conditioning.\n            n (int): Number of samples to generate.\n            **kwargs: Additional keyword arguments.\n        Returns:\n            np.ndarray: Generated samples.\n        \"\"\"\n        # Generate samples from the latent space\n        \n        # Map latent samples to the original space\n        x = simple_hot_encoder(x, num_classes=2)\n        return super().sample(x=x,n=n,**kwargs)\n\n\n\ndef sample_and_plot(samplers, N=500):\n    \"\"\"\n    Sample conditionally using provided samplers and plot marginals.\n    \"\"\"\n        \n    y_df, y_labels = generate_sphere_data(\n            N=500, D=2, centers=[[0, 1], [0, 0.5]], radius=1.0\n        )\n    y = y_df.values\n    labels = y_labels.values\n        \n    results = []\n\n    for SamplerClass in samplers:\n        \n        # TODO: remove once conditionner fixed\n        # SamplerClass.sample = dummy_sampler\n\n        # Initialize and sample\n        model = SamplerClass(x=labels, y=y)\n\n        # Here should we use different x? How do we chose?\n        x = y_labels\n        sampled = model.sample(x=get_matrix(0.), n=N//2, distance=None).squeeze()\n        sampled = np.concatenate([sampled,model.sample(x=get_matrix(1.), n=N//2).squeeze()])\n        sampler = model.sampler_y\n        plt.scatter(sampler.get_fx()[:, 0], sampler.get_fx()[:, 1], color='red', label=\"original distrib.\")\n        plt.plot(sampler.get_fx()[:, 0], sampler.get_fx()[:, 1], alpha=0.5,color='black', label=\"latent connection.\")\n        plt.ylabel(\"y\")\n        plt.xlabel(\"x\")\n        plt.title(\"Parametrization of Original Data\")\n        plt.legend()\n        \n                # Latent\n        latent_xy = model.latent_xy\n        latent = pd.DataFrame(\n            latent_xy[:,[0,2]], columns=[f\"dim_{i}\" for i in range(y.shape[1])]\n        )\n        latent[\"label\"] = latent_xy[:, 0]\n        # Reconstructed\n        recon =  model.sampler_xy(latent_xy)\n        xy_recon = pd.DataFrame(recon[:,2:], columns=[f\"dim_{i}\" for i in range(y.shape[1])])\n        xy_recon[\"label\"] = recon[:,0]\n\n        # New generated samples\n        variate = pd.DataFrame(\n            sampled, columns=[f\"dim_{i}\" for i in range(y.shape[1])]\n        )\n\n\n        # Attach labels\n        variate[\"label\"] = x\n        original = y_df.copy()\n        original[\"label\"] = labels\n\n        scatter_plot_multiple(\n            [original, latent, xy_recon, variate],\n            titles=[\n                \"Original Data\",\n                \"Latent Representation\",\n                \"Reconstructed\",\n                \"Generated Samples\",\n            ],\n        )\n\n\n\n# codpy.core.KerInterface.set_verbose()\n# test = Sampler(x=np.random.normal(size=[10,1]))\n# plt.plot(test.x,test.fx,'o')\nsample_and_plot(\n    samplers=[\n        CircleConditionner,\n    ]\n)\nplt.show()\npass"
      ]
    }
  ],
  "metadata": {
    "kernelspec": {
      "display_name": "Python 3",
      "language": "python",
      "name": "python3"
    },
    "language_info": {
      "codemirror_mode": {
        "name": "ipython",
        "version": 3
      },
      "file_extension": ".py",
      "mimetype": "text/x-python",
      "name": "python",
      "nbconvert_exporter": "python",
      "pygments_lexer": "ipython3",
      "version": "3.9.13"
    }
  },
  "nbformat": 4,
  "nbformat_minor": 0
}