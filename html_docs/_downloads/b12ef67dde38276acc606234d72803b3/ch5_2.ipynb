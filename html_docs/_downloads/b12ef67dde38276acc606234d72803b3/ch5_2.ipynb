{
  "cells": [
    {
      "cell_type": "markdown",
      "metadata": {},
      "source": [
        "\n# 5.2 Optimal Transport: LSAP (Linear Sum Assignment Problem)\n\nThis section illustrates the application of the Linear Sum Assignment Problem (LSAP) using the CodPy library.\n"
      ]
    },
    {
      "cell_type": "markdown",
      "metadata": {},
      "source": [
        "## Required libraries\n\n"
      ]
    },
    {
      "cell_type": "code",
      "execution_count": null,
      "metadata": {
        "collapsed": false
      },
      "outputs": [],
      "source": [
        "import numpy as np\nimport pandas as pd\nfrom matplotlib import pyplot as plt\n\nfrom codpy import core\nfrom codpy.kernel import Kernel\nfrom codpy.permutation import lsap\nfrom codpy.plot_utils import multi_plot"
      ]
    },
    {
      "cell_type": "markdown",
      "metadata": {},
      "source": [
        "Usefull functions\n We define the cost function for the LSAP problem.\n And the reordering function which will give back the lsap reordered columns.\n\n########################################################################\n\n"
      ]
    },
    {
      "cell_type": "code",
      "execution_count": null,
      "metadata": {
        "collapsed": false
      },
      "outputs": [],
      "source": [
        "def cost(M):\n    return np.trace(M)\n\n\ndef reordering(x, y, Dnm=None, metric=\"euclidean\"):\n    \"\"\"\n    Reorder the columns of y to match the rows of x based on the cost matrix Dnm.\n    If cost matrix Dnm is not provided, it computes the Euclidean distance between x and y.\n    \"\"\"\n    if Dnm is None and metric == \"euclidean\":\n        M = np.linalg.norm(x[:, np.newaxis, :] - y[np.newaxis, :, :], axis=-1)\n    else:\n        M = Dnm\n\n    # Solve LSAP\n    col_ind = lsap(M)\n\n    # Reorder y to match x\n    x_reordered = x[col_ind]\n    return x_reordered, y, col_ind"
      ]
    },
    {
      "cell_type": "markdown",
      "metadata": {},
      "source": [
        "Qualitative example\n LSAP with different input sizes\n To compute using CodPy, we need:\n to import CodPy's core module and Kernel class and initialize kernel pointer\n\n########################################################################\n\n"
      ]
    },
    {
      "cell_type": "code",
      "execution_count": null,
      "metadata": {
        "collapsed": false
      },
      "outputs": [],
      "source": [
        "# Let's create a function to plot the data points and the lines connecting them\n# in a scatter plot. The function will take the data points and the lines to be drawn as input.\ndef graph_plot(xfx, ax=None, color=\"black\", **kwargs):\n    xp, fxp = xfx[0], xfx[1]\n    x, y = xp, fxp\n    x = np.asarray(x)\n    y = np.asarray(y)\n    legend = kwargs.get(\"legend\", \"\")\n\n    if x.size == 0 or y.size == 0:\n        return\n\n    N = min(len(x), len(y))\n\n    # Scatter plot\n    ax.scatter(x[:, 0], x[:, 1], label=\"x\", color=\"blue\")\n    ax.scatter(y[:, 0], y[:, 1], label=\"y\", color=\"red\")\n    ax.set_title(legend)\n    ax.legend()\n    # Draw lines between matched points\n    for i in range(N):\n        ax.plot([x[i, 0], y[i, 0]], [x[i, 1], y[i, 1]], color=color, linewidth=1)\n\n    plt.axis(\"equal\")"
      ]
    },
    {
      "cell_type": "markdown",
      "metadata": {},
      "source": [
        "LSAP problems\nLet us give two examples. One with the Euclidean distance\nand another with the tensornorm kernel distance.\n\n########################################################################\n\n"
      ]
    },
    {
      "cell_type": "code",
      "execution_count": null,
      "metadata": {
        "collapsed": false
      },
      "outputs": [],
      "source": [
        "def LSAP_1(x0, y0):\n    Dnm = core.KerOp.dnm(x=x0, y=y0, distance=\"norm2\")\n    x, y, permutation = reordering(x=x0, y=y0, Dnm=Dnm)\n    return x, y\n\ndef LSAP_2(x0, y0):\n    kernel = Kernel(x0, set_kernel=core.kernel_setter(\"tensornorm\", \"scale_to_unitcube\"))\n    Dnm = core.KerOp.dnm(x=x0, y=y0, kernel_ptr=kernel.get_kernel())\n    x, y, permutation = reordering(x0, y0, Dnm=Dnm)\n    return x, y"
      ]
    },
    {
      "cell_type": "markdown",
      "metadata": {},
      "source": [
        "Running experiments\n Here we generate some random data points and apply the LSAP methods.\n\n########################################################################\n\n"
      ]
    },
    {
      "cell_type": "code",
      "execution_count": null,
      "metadata": {
        "collapsed": false
      },
      "outputs": [],
      "source": [
        "np.random.seed(42)\nN=16    \nD = 2\nleft = np.random.normal(-3.0, 1.0, (int(N / 2), D))\nright = np.random.normal(3.0, 1.0, (int(N / 2), D))\nx0 = np.concatenate((left, right))\ny0 = np.random.rand(len(x0), D)\n\nl2_lsap = LSAP_1(x0, y0)\ntk_permut = LSAP_2(x0, y0)\n\nmulti_plot(\n    [l2_lsap, tk_permut],\n    fun_plot=graph_plot,\n    mp_nrows=1,\n    mp_ncols=2,\n    mp_figsize=(12, 4),\n    legends=[\n        \"Euclidean distance\",\n        \"Tensornorm kernel distance\",\n    ],\n)\nplt.show()"
      ]
    }
  ],
  "metadata": {
    "kernelspec": {
      "display_name": "Python 3",
      "language": "python",
      "name": "python3"
    },
    "language_info": {
      "codemirror_mode": {
        "name": "ipython",
        "version": 3
      },
      "file_extension": ".py",
      "mimetype": "text/x-python",
      "name": "python",
      "nbconvert_exporter": "python",
      "pygments_lexer": "ipython3",
      "version": "3.9.13"
    }
  },
  "nbformat": 4,
  "nbformat_minor": 0
}