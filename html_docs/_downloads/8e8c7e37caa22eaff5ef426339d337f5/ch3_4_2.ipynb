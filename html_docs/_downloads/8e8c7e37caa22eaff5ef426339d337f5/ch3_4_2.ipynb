{
  "cells": [
    {
      "cell_type": "markdown",
      "metadata": {},
      "source": [
        "\n# 3.4.2 Divergence Operator\n\nThis tutorial introduces the divergence operator in CodPy, based on the\ntranspose of the gradient operator. The divergence is a key concept in vector\ncalculus and is fundamental in the formulation of many differential equations.\n\n## Overview\n\nLet $\\nabla_k$ denote the kernel-based gradient operator defined as:\n\n$$\n\\nabla_k f_k(\\cdot) =  \\nabla_k(\\cdot) f(X), \\quad \\nabla_k(\\cdot) = (\\nabla K)(\\cdot,X)( K(X,X) + \\epsilon R(X,X) )^{-1}\n$$\n\nwhere:\n    - $X \\in \\mathbb{R}^{N_x \\times D}$ is the training set,\n    - $Y \\in \\mathbb{R}^{N_y \\times D}$ is usually set equal to $X$,\n    - $Z \\in \\mathbb{R}^{N_z \\times D}$ is the evaluation set,\n    - $K(X, Y)^{-1}$ is the pseudo-inverse of the kernel Gram matrix of size $\\mathbb{R}^{N_x \\times N_y}$,\n    - $\\nabla_k \\in \\mathbb{R}^{D \\times N_z \\times N_y}$ is the kernel gradient with respect to $Z$.\n\n\nWe define the **transpose operator** $\\nabla_k^T$ as the adjoint of the\ngradient operator under the standard $L^2$ inner product. This transpose\nis consistent with the divergence operator and satisfies:\n\n$$\n\\langle \\nabla_k f, g \\rangle = \\langle f, \\nabla_k^T g \\rangle,\n$$\n\nfor any test functions $f(X) \\in \\mathbb{R}^{N_x \\times D_f}$ and\n$g(Z) \\in \\mathbb{R}^{D \\times N_z \\times D_f}$.\n\n## Divergence Operator Definition\n\nTo compute the transpose of the operator, we consider the structure of\nthe gradient operator $\\nabla_k$. Then its transpose is given by:\n\n$$\n\\nabla_k f_k(\\cdot)^T = ( K(X,X) + \\epsilon R(X,X) )^{-T} (\\nabla K)(\\cdot,X)^T,\n$$\n\nwhere:\n    - $K(X, Y)^{-T}$ is the transpose of the inverse kernel matrix,\n    - $\\nabla_k^T \\in \\mathbb{R}^{N_y \\times (N_z D)}$ is the transpose of the kernel gradient matrix.\n\nThis operator allows one to compute divergence-like quantities in RKHS, and can be used for problems involving conservation laws, variational formulations, etc.\n"
      ]
    },
    {
      "cell_type": "code",
      "execution_count": null,
      "metadata": {
        "collapsed": false
      },
      "outputs": [],
      "source": [
        "# Importing necessary modules\nimport os\nimport sys\n\nfrom matplotlib import pyplot as plt\n\ncurr_f = os.path.join(os.getcwd(), \"codpy-book\", \"utils\")\nsys.path.insert(0, curr_f)\n\n\nimport numpy as np\n\n# from codpy.plotting import plot1D\n# Lets import multi_plot function from codpy utils\nfrom codpy.plot_utils import multi_plot\n\n\n# Define the sinusoidal function\ndef periodic_fun(x):\n    \"\"\"\n    A sinusoidal function that generates a sum of sines based on the input ``x``.\n    \"\"\"\n    from math import pi\n\n    sinss = np.cos(2 * x * pi)\n    if x.ndim == 1:\n        sinss = np.prod(sinss, axis=0)\n        ress = np.sum(x, axis=0)\n    else:\n        sinss = np.prod(sinss, axis=1)\n        ress = np.sum(x, axis=1)\n    return ress + sinss\n\n\ndef nabla_my_fun(x):\n    from math import pi\n\n    import numpy as np\n\n    sinss = np.cos(2 * x * pi)\n    if x.ndim == 1:\n        sinss = np.prod(sinss, axis=0)\n        D = len(x)\n        out = np.ones((D))\n\n        def helper(d):\n            out[d] += 2.0 * sinss * pi * np.sin(2 * x[d] * pi) / np.cos(2 * x[d] * pi)\n\n        [helper(d) for d in range(0, D)]\n    else:\n        sinss = np.prod(sinss, axis=1)\n        N = x.shape[0]\n        D = x.shape[1]\n        out = np.ones((N, D))\n\n        def helper(d):\n            out[:, d] += (\n                2.0 * sinss * pi * np.sin(2 * x[:, d] * pi) / np.cos(2 * x[:, d] * pi)\n            )\n\n        [helper(d) for d in range(0, D)]\n    return out\n\n\n# Function to generate periodic data\ndef generate_periodic_data_cartesian(size_x, size_z, fun=None, nabla_fun=None):\n    \"\"\"\n    Generates 2D structured Cartesian grid data for x and z domains,\n    and evaluates a given function and optionally its gradient.\n\n    Parameters:\n    - size_x: number of points per axis for x (grid will be size_x^2)\n    - size_z: number of points per axis for z (grid will be size_z^2)\n    - fun: function to evaluate at each point\n    - nabla_fun: optional gradient function to evaluate\n\n    Returns:\n    - x, z: 2D Cartesian grids of shape (N, 2)\n    - fx, fz: function values at x and z\n    - nabla_fx, nabla_fz (if nabla_fun is provided)\n    \"\"\"\n\n    def cartesian_grid(size, box):\n        lin = [np.linspace(box[0, d], box[1, d], size) for d in range(2)]\n        X, Y = np.meshgrid(*lin)\n        return np.stack([X.ravel(), Y.ravel()], axis=1)\n\n    # Define domain boxes\n    X_box = np.array([[-1, -1], [1, 1]])\n    Z_box = np.array([[-1.5, -1.5], [1.5, 1.5]])\n\n    # Generate Cartesian grids\n    x = cartesian_grid(size_x, X_box)\n    z = cartesian_grid(size_z, Z_box)\n\n    # Function evaluations\n    fx = fun(x).reshape(-1, 1) if fun else None\n    fz = fun(z).reshape(-1, 1) if fun else None\n\n    if nabla_fun:\n        nabla_fx = nabla_fun(x)\n        nabla_fz = nabla_fun(z)\n        return x, fx, z, fz, nabla_fx, nabla_fz\n\n    return x, fx, z, fz\n\n\n# Lets define helper function to plot 3D projection of the function\ndef plot_trisurf(xfx, ax, legend=\"\", elev=90, azim=-100, **kwargs):\n    from matplotlib import cm\n\n    \"\"\"\n    Helper function to plot a 3D surface using a trisurf plot.\n\n    Parameters:\n    - xfx: A tuple containing the x-coordinates (2D points) and their \n      corresponding function values.\n    - ax: The matplotlib axis object for plotting.\n    - legend: The legend/title for the plot.\n    - elev, azim: Elevation and azimuth angles for the 3D view.\n    - kwargs: Additional keyword arguments for further customization.\n    \"\"\"\n\n    xp, fxp = xfx[0], xfx[1]\n    x, fx = xp, fxp\n\n    X, Y = x[:, 0], x[:, 1]\n    Z = fx.flatten()\n    ax.plot_trisurf(X, Y, Z, antialiased=False, cmap=cm.jet)\n    ax.view_init(azim=azim, elev=elev)\n    ax.title.set_text(legend)\n\n\n# import CodPy's core module and Kernel class\nfrom codpy import core\nfrom codpy.kernel import Kernel"
      ]
    },
    {
      "cell_type": "markdown",
      "metadata": {},
      "source": [
        "Divergence operator\n\n########################################################################\n\n"
      ]
    },
    {
      "cell_type": "code",
      "execution_count": null,
      "metadata": {
        "collapsed": false
      },
      "outputs": [],
      "source": [
        "def fun_nablaTnabla(size_x=50, size_y=50):\n    \"\"\"\n    Runs the experiment applying CodPy and SciPy models on the data and plots the results.\n\n    Parameters:\n    - data_x: List of generated x arrays.\n    - data_fx: List of function values corresponding to each x.\n    - data_z: List of generated z arrays.\n    \"\"\"\n    # Apply CodPy and SciPy models for each (x, fx, z) pair\n\n    x, fx, z, fz, _, nabla_fz = generate_periodic_data_cartesian(\n        size_x, size_y, periodic_fun, nabla_fun=nabla_my_fun\n    )\n\n    nabla_fz = nabla_fz.reshape(-1, 2, 1)\n\n    kernel_ptr = Kernel(\n        x=x, fx=fx, set_kernel=core.kernel_setter(\"gaussianper\", None,0, 1e-8)\n    ).get_kernel()\n\n    nabla_f_x = core.DiffOps.nabla(\n        x=x,\n        z=x,\n        fx=fx,\n        kernel_ptr=kernel_ptr,\n        order=2,\n        regularization=1e-8,\n    )\n\n    nabla_t_f_x = core.DiffOps.nabla_t(\n        x=x,\n        y=x,\n        z=x,\n        fz=nabla_f_x,\n        kernel_ptr=kernel_ptr,\n        order=2,\n        regularization=1e-8,\n    )\n\n    nablaTnabla_f_x = core.DiffOps.nabla_t_nabla(\n        x=x,\n        y=x,\n        fx=fx,\n        kernel_ptr=kernel_ptr,\n        order=2,\n        regularization=1e-8,\n    )\n    multi_plot(\n        [\n            (x, nabla_t_f_x),\n            (x, nablaTnabla_f_x),\n        ],\n        plot_trisurf,\n        projection=\"3d\",\n        mp_max_items=4,\n        mp_ncols=4,\n        mp_nrows=1,\n        mp_figsize=(12, 3),\n        mp_title=[\n            \"Comparison of the outer product of the gradient to Laplace operator\"\n        ],\n    )\n    plt.show()\n\n\nfun_nablaTnabla()\npass"
      ]
    }
  ],
  "metadata": {
    "kernelspec": {
      "display_name": "Python 3",
      "language": "python",
      "name": "python3"
    },
    "language_info": {
      "codemirror_mode": {
        "name": "ipython",
        "version": 3
      },
      "file_extension": ".py",
      "mimetype": "text/x-python",
      "name": "python",
      "nbconvert_exporter": "python",
      "pygments_lexer": "ipython3",
      "version": "3.9.13"
    }
  },
  "nbformat": 4,
  "nbformat_minor": 0
}