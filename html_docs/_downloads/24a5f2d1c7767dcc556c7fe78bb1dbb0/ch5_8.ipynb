{
  "cells": [
    {
      "cell_type": "markdown",
      "metadata": {},
      "source": [
        "\n# 5.8. Conditional Sampling\nExample of using the `codpy.conditioning` module to sample from a conditional heteroscedastic distribution.\n"
      ]
    },
    {
      "cell_type": "code",
      "execution_count": null,
      "metadata": {
        "collapsed": false
      },
      "outputs": [],
      "source": [
        "import matplotlib.pyplot as plt\nimport numpy as np\nimport pandas as pd\nimport seaborn as sns\nfrom scipy.stats import norm\n\nfrom codpy import conditioning\n\n\ndef mean_function(x):\n    return np.sin(np.pi * x)\n\n\ndef variance_function(x):\n    return 0.1 + 0.05 * np.cos(np.pi * x * 0.5)  # l'interval ~ [0.05, 0.15]\n\n\ndef generate_conditional_hetero_skedastic_density_data(\n    N_train=1000, seed=None, mean_f=None, variance_f=None\n):\n    if seed is not None:\n        np.random.seed(seed)\n\n    if mean_f is None:\n        mean_f = mean_function\n    if variance_f is None:\n        variance_f = variance_function\n\n    x = np.random.uniform(-1.0, 1.0, N_train)\n    mean_y = mean_f(x)\n    std_y = variance_f(x)\n    y = np.random.normal(loc=mean_y, scale=std_y)\n\n    z = 0.0  # conditioning point\n    fz_mean = mean_f(z)\n    fz_std = variance_f(z)\n\n    y_pdf = np.linspace(2.0 * y.min(), 2.0 * y.max(), 1000)\n    density = norm.pdf(y_pdf, loc=fz_mean, scale=fz_std)\n    density /= np.trapz(density, y_pdf)  # Normalize\n\n    return x, y, z, y_pdf, (fz_mean, fz_std), density\n\n\ndef load_synthetic_data(N=1000, cond_point_val=0.0, seed=42):\n    x_raw, y_raw, z, y_pdf, (fz_mean, fz_std), true_density = (\n        generate_conditional_hetero_skedastic_density_data(\n            N_train=N,\n            seed=seed,\n            mean_f=mean_function,\n            variance_f=variance_function,\n        )\n    )\n\n    x = pd.DataFrame(x_raw, columns=[\"x\"])\n    y = pd.DataFrame(y_raw, columns=[\"y\"])\n    cond_point = pd.DataFrame([[cond_point_val]], columns=[\"x\"])\n\n    # true samples for reference\n    ref_samples = np.random.normal(loc=fz_mean, scale=fz_std, size=500)\n    ref_dist = pd.DataFrame(ref_samples, columns=[\"y\"])\n    ref_dist[\"Type\"] = \"Reference\"\n\n    return x, y, ref_dist, cond_point, y_pdf, true_density, fz_mean, fz_std\n\n\ndef sample_and_plot_synthetic(samplers, N=500, seed=3):\n    x, y, ref_dist, cond_point, y_pdf, true_density, fz_mean, fz_std = (\n        load_synthetic_data(seed=seed)\n    )\n\n    results = [ref_dist]\n\n    for SamplerClass in samplers:\n        model = SamplerClass(x=x, y=y)\n        sampled = model.sample(x=cond_point, n=N)[0]\n        df_sampled = pd.DataFrame(sampled, columns=[\"y\"])\n        df_sampled[\"Type\"] = SamplerClass.__name__\n        results.append(df_sampled)\n\n    plot_all_views(results, y_pdf, true_density, fz_mean, fz_std)\n\n\ndef plot_all_views(results, y_grid, true_density, true_mean, true_std):\n    fig, axes = plt.subplots(1, 3, figsize=(18, 5))\n\n    # l'histogram\n    for df in results:\n        sns.histplot(\n            df[\"y\"],\n            bins=40,\n            stat=\"density\",\n            ax=axes[0],\n            label=df[\"Type\"].iloc[0],\n            alpha=0.5,\n        )\n    axes[0].set_title(\"Histogram of Samples\")\n    axes[0].set_xlabel(\"y\")\n    handles, labels = axes[0].get_legend_handles_labels()\n    by_label = dict(zip(labels, handles))\n    axes[0].legend(by_label.values(), by_label.keys())\n\n    # CDF\n    for df in results:\n        sorted_y = np.sort(df[\"y\"])\n        cdf = np.linspace(0, 1, len(sorted_y))\n        axes[1].plot(sorted_y, cdf, label=df[\"Type\"].iloc[0])\n    true_cdf = norm.cdf(y_grid, loc=true_mean, scale=true_std)\n    axes[1].plot(y_grid, true_cdf, label=\"True CDF\", linewidth=2, linestyle=\"--\")\n    axes[1].set_title(\"CDF of Samples\")\n    axes[1].set_xlabel(\"y\")\n    handles, labels = axes[1].get_legend_handles_labels()\n    by_label = dict(zip(labels, handles))\n    axes[1].legend(by_label.values(), by_label.keys())\n\n    # PDF\n    axes[2].plot(y_grid, true_density, label=\"True PDF\", linewidth=2)\n    for df in results:\n        sns.kdeplot(df[\"y\"], ax=axes[2], label=df[\"Type\"].iloc[0], bw_adjust=0.5)\n    axes[2].set_title(\"Estimated PDF vs True\")\n    axes[2].set_xlabel(\"y\")\n    handles, labels = axes[2].get_legend_handles_labels()\n    by_label = dict(zip(labels, handles))\n    axes[2].legend(by_label.values(), by_label.keys())\n\n    plt.tight_layout()\n    plt.show()\n\n\nsample_and_plot_synthetic(\n    [\n        conditioning.ConditionerKernel,\n        conditioning.NadarayaWatsonKernel,\n    ]\n)\npass"
      ]
    }
  ],
  "metadata": {
    "kernelspec": {
      "display_name": "Python 3",
      "language": "python",
      "name": "python3"
    },
    "language_info": {
      "codemirror_mode": {
        "name": "ipython",
        "version": 3
      },
      "file_extension": ".py",
      "mimetype": "text/x-python",
      "name": "python",
      "nbconvert_exporter": "python",
      "pygments_lexer": "ipython3",
      "version": "3.9.13"
    }
  },
  "nbformat": 4,
  "nbformat_minor": 0
}