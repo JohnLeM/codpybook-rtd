{
  "cells": [
    {
      "cell_type": "markdown",
      "metadata": {},
      "source": [
        "\n# 6.7. Conditional Sampling\n\nIn this tutorial, we introduce the problem of conditional sampling, i.e., generating samples from a distribution \\( p(y|x) \\) using kernel-based models.\n\nWe\u2019ll use the classic Iris dataset to demonstrate two approaches:\n- **Nadaraya-Watson Estimator**\n- **Optimal Transport-based Conditioner**\n"
      ]
    },
    {
      "cell_type": "code",
      "execution_count": null,
      "metadata": {
        "collapsed": false
      },
      "outputs": [],
      "source": [
        "import numpy as np\nimport pandas as pd\nimport seaborn as sns\nfrom sklearn.datasets import load_iris\n\nfrom codpy import conditioning\nimport codpy.core\nfrom codpy.core import get_matrix\nfrom codpy.plot_utils import multi_plot\nimport matplotlib.pyplot as plt\n\ndef load_iris_data(threshold=0.2):\n    \"\"\"\n    Loads the Iris dataset and prepares conditional data:\n    using 'petal width' to condition other features.\n    \"\"\"\n    data = load_iris()\n    feature_names = [\"sep.len\", \"sep.wid.\", \"pet.len\", \"pet.wid.\"]\n    df = pd.DataFrame(data.data, columns=feature_names)\n\n    x_cols = [\"pet.wid.\"]\n    y_cols = [col for col in df.columns if col not in x_cols]\n\n    x = df[x_cols]\n    y = df[y_cols]\n\n    # Identify reference distribution: near the mean of x\n    threshold = np.power(threshold, 1.0 / len(x_cols))\n    mean_vals = df.mean()\n    var_vals = df.var()\n\n    mask = np.ones(len(df), dtype=bool)\n    for col in x_cols:\n        mask &= np.abs(df[col] - mean_vals[col]) < var_vals[col] * threshold\n\n    ref_dist = df.loc[mask, y_cols]\n    return x, y, ref_dist, get_matrix(mean_vals[x_cols]).T\n\n\ndef sample_and_plot(samplers, N=500):\n    \"\"\"\n    Sample conditionally using provided samplers and plot marginals.\n    \"\"\"\n    x, y, ref_dist, cond_point = load_iris_data()\n\n    results = []\n\n    for SamplerClass in samplers:\n        # Initialize and sample\n        model = SamplerClass(x=x, y=y)\n        sampled = model.sample(x=cond_point, n=N,iter=0).squeeze()\n\n        # Prepare DataFrame\n        df_sampled = pd.DataFrame(sampled, columns=y.columns)\n        df_sampled[\"Type\"] = SamplerClass.__name__\n\n        # Combine with reference\n        df_ref = ref_dist.copy()\n        df_ref[\"Type\"] = \"Reference\"\n        results.append(pd.concat([df_sampled, df_ref]))\n\n    # Plotting\n    plot_marginals(results, condition_col=x.columns[0])\n\n\ndef plot_marginals(results, condition_col):\n    \"\"\"\n    Plot cumulative histograms for each feature conditioned on the same input.\n    \"\"\"\n    plots = []\n\n    for df in results:\n        for col in df.columns:\n            if col != \"Type\":\n                plots.append({\"data\": df, \"col\": col, \"cond_col\": condition_col})\n\n    def plot_func(params, **kwargs):\n        ax = params[\"ax\"]\n        data, col, cond = params[\"data\"], params[\"col\"], params[\"cond_col\"]\n        sns.histplot(\n            data=data,\n            x=col,\n            hue=\"Type\",\n            bins=100,\n            cumulative=True,\n            ax=ax,\n            stat=\"density\",\n            common_norm=False,\n            fill=False,\n            element=\"step\",\n        )\n        ax.set_title(f\"{col} | {cond}\")\n\n    multi_plot(plots, fun_plot=plot_func, mp_ncols=3, mp_nrows=len(results))\n\n\ncodpy.core.KerInterface.set_verbose()\nsample_and_plot(\n    samplers=[\n        conditioning.ConditionerKernel,\n        conditioning.NadarayaWatsonKernel,\n    ]\n)\nplt.show()\npass"
      ]
    }
  ],
  "metadata": {
    "kernelspec": {
      "display_name": "Python 3",
      "language": "python",
      "name": "python3"
    },
    "language_info": {
      "codemirror_mode": {
        "name": "ipython",
        "version": 3
      },
      "file_extension": ".py",
      "mimetype": "text/x-python",
      "name": "python",
      "nbconvert_exporter": "python",
      "pygments_lexer": "ipython3",
      "version": "3.9.13"
    }
  },
  "nbformat": 4,
  "nbformat_minor": 0
}