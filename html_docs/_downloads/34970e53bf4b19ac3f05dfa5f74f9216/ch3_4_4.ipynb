{
  "cells": [
    {
      "cell_type": "markdown",
      "metadata": {},
      "source": [
        "\n# 3.4.4 Integral operator - inverse gradient operator\n\n\nGiven a kernel gradient operator \u2207\u2096, CodPy defines an integral-type inverse operator denoted by:\n\n$$\n\\nabla_k^{-1} = \\Delta_k^{-1} \\nabla_k^T \\in \\mathbb{R}^{N_x \\times D N_z}\n$$\n\n**Matrix Interpretation**\n\nTo compute this operator, the gradient tensor\n$$\n\\nabla_k(\\cdot, X) \\in \\mathbb{R}^{D \\times N_z \\times N_x}\n$$\nis reshaped into a matrix of shape $\\mathbb{R}^{D N_z \\times N_x}$.\n\nThen, its transpose is multiplied by the inverse Laplacian $\\Delta_k^{-1}$ to obtain $\\nabla_k^{-1}$.\n\nThis operator acts on a vector field $v_z \\in \\mathbb{R}^{D \\times N_z \\times D_{v_z}}$ and returns:\n\n$$\n\\nabla_k^{-1}(\\cdot, X) \\cdot v_z \\in \\mathbb{R}^{N_x \\times D_{v_z}}.\n$$\n\n** Least-Squares Formulation **\n\nConceptually, this operation solves the following minimization problem:\n\n$$\n\\bar{h} = \\arg \\min_{h \\in \\mathbb{R}^{N_x \\times D_{v_z}}} \\| \\nabla_k h - v_z \\|_{\\ell^2}^2\n$$\n\nThat is, it finds the best function $h$ whose kernel gradient approximates a given vector field $v_z$.\n\n**Example: 2D Case**\n\nIn 2D, we can verify the behavior of the inverse by checking whether the composition:\n\n$$\n\\nabla_k^{-1}(\\cdot, X) \\cdot \\nabla_k(\\cdot, X) f(X)\n$$\n\nrecovers the original function $f(X)$.\n\nThis test confirms whether $\\nabla_k^{-1} \\nabla_k$ approximates the identity.\n\n**Extrapolation**\n\nWe can also evaluate generalization by applying:\n\n$$\n\\nabla_k^{-1}(\\cdot, Z) \\cdot \\nabla_k(\\cdot, X) f(X)\n$$\n\nThis measures how well the inverse-gradient operator extrapolates from $X$ to unseen points $Z$.\n"
      ]
    },
    {
      "cell_type": "code",
      "execution_count": null,
      "metadata": {
        "collapsed": false
      },
      "outputs": [],
      "source": [
        "# Importing necessary modules\nimport os\nimport sys\n\nfrom matplotlib import pyplot as plt\n\ncurr_f = os.path.join(os.getcwd(), \"codpy-book\", \"utils\")\nsys.path.insert(0, curr_f)\n\n\nimport numpy as np\n\n# from codpy.plotting import plot1D\n# Lets import multi_plot function from codpy utils\nfrom codpy.plot_utils import multi_plot\n\n\n# Define the sinusoidal function\ndef periodic_fun(x):\n    \"\"\"\n    A sinusoidal function that generates a sum of sines based on the input ``x``.\n    \"\"\"\n    from math import pi\n\n    sinss = np.cos(2 * x * pi)\n    if x.ndim == 1:\n        sinss = np.prod(sinss, axis=0)\n        ress = np.sum(x, axis=0)\n    else:\n        sinss = np.prod(sinss, axis=1)\n        ress = np.sum(x, axis=1)\n    return ress + sinss\n\n\ndef nabla_my_fun(x):\n    from math import pi\n\n    import numpy as np\n\n    sinss = np.cos(2 * x * pi)\n    if x.ndim == 1:\n        sinss = np.prod(sinss, axis=0)\n        D = len(x)\n        out = np.ones((D))\n\n        def helper(d):\n            out[d] += 2.0 * sinss * pi * np.sin(2 * x[d] * pi) / np.cos(2 * x[d] * pi)\n\n        [helper(d) for d in range(0, D)]\n    else:\n        sinss = np.prod(sinss, axis=1)\n        N = x.shape[0]\n        D = x.shape[1]\n        out = np.ones((N, D))\n\n        def helper(d):\n            out[:, d] += (\n                2.0 * sinss * pi * np.sin(2 * x[:, d] * pi) / np.cos(2 * x[:, d] * pi)\n            )\n\n        [helper(d) for d in range(0, D)]\n    return out\n\n\n# Function to generate periodic data\ndef generate_periodic_data_cartesian(size_x, size_z, fun=None, nabla_fun=None):\n    \"\"\"\n    Generates 2D structured Cartesian grid data for x and z domains,\n    and evaluates a given function and optionally its gradient.\n\n    Parameters:\n    - size_x: number of points per axis for x (grid will be size_x^2)\n    - size_z: number of points per axis for z (grid will be size_z^2)\n    - fun: function to evaluate at each point\n    - nabla_fun: optional gradient function to evaluate\n\n    Returns:\n    - x, z: 2D Cartesian grids of shape (N, 2)\n    - fx, fz: function values at x and z\n    - nabla_fx, nabla_fz (if nabla_fun is provided)\n    \"\"\"\n\n    def cartesian_grid(size, box):\n        lin = [np.linspace(box[0, d], box[1, d], size) for d in range(2)]\n        X, Y = np.meshgrid(*lin)\n        return np.stack([X.ravel(), Y.ravel()], axis=1)\n\n    # Define domain boxes\n    X_box = np.array([[-1, -1], [1, 1]])\n    Z_box = np.array([[-1.5, -1.5], [1.5, 1.5]])\n\n    # Generate Cartesian grids\n    x = cartesian_grid(size_x, X_box)\n    z = cartesian_grid(size_z, Z_box)\n\n    # Function evaluations\n    fx = fun(x).reshape(-1, 1) if fun else None\n    fz = fun(z).reshape(-1, 1) if fun else None\n\n    if nabla_fun:\n        nabla_fx = nabla_fun(x)\n        nabla_fz = nabla_fun(z)\n        return x, fx, z, fz, nabla_fx, nabla_fz\n\n    return x, fx, z, fz\n\n\n# Lets define helper function to plot 3D projection of the function\ndef plot_trisurf(xfx, ax, legend=\"\", elev=90, azim=-100, **kwargs):\n    from matplotlib import cm\n\n    \"\"\"\n    Helper function to plot a 3D surface using a trisurf plot.\n\n    Parameters:\n    - xfx: A tuple containing the x-coordinates (2D points) and their \n      corresponding function values.\n    - ax: The matplotlib axis object for plotting.\n    - legend: The legend/title for the plot.\n    - elev, azim: Elevation and azimuth angles for the 3D view.\n    - kwargs: Additional keyword arguments for further customization.\n    \"\"\"\n\n    xp, fxp = xfx[0], xfx[1]\n    x, fx = xp, fxp\n\n    X, Y = x[:, 0], x[:, 1]\n    Z = fx.flatten()\n    ax.plot_trisurf(X, Y, Z, antialiased=False, cmap=cm.jet)\n    ax.view_init(azim=azim, elev=elev)\n    ax.title.set_text(legend)\n\n\n# import CodPy's core module and Kernel class\nfrom codpy import core\nfrom codpy.kernel import Kernel"
      ]
    },
    {
      "cell_type": "markdown",
      "metadata": {},
      "source": [
        "Integral operator - inverse gradient operator\n\n########################################################################\n\n"
      ]
    },
    {
      "cell_type": "code",
      "execution_count": null,
      "metadata": {
        "collapsed": false
      },
      "outputs": [],
      "source": [
        "def fun_NablainvNabla1(size_x=50, size_y=50):\n    x, fx, z, fz, _, nabla_fz = generate_periodic_data_cartesian(\n        size_x, size_y, periodic_fun, nabla_fun=nabla_my_fun\n    )\n\n    nabla_fz = nabla_fz.reshape(-1, 2, 1)\n\n    kernel_ptr = Kernel(\n        x=x, fx=fx, set_kernel=core.kernel_setter(\"tensornorm\", \"scale_to_unitcube\")\n    ).get_kernel()\n\n    fz_inv = core.DiffOps.nabla_inv(\n        x=x,\n        y=x,\n        z=x,\n        kernel_ptr=kernel_ptr,\n        fz=core.DiffOps.nabla(x=x, y=x, z=x, fx=fx, kernel_ptr=kernel_ptr),\n    )\n    multi_plot(\n        [(x, fx), (x, fz_inv)],\n        plot_trisurf,\n        projection=\"3d\",\n        mp_nrows=1,\n        mp_figsize=(12, 3),\n        mp_titles=[\n            \"Comparison between original function to the product of the gradient operator and its inverse\"\n        ],\n    )\n    plt.show()\n\n\nfun_NablainvNabla1()\n\n\ndef fun_NablainvNabla2(size_x=50, size_y=50):\n    x, fx, z, fz, _, nabla_fz = generate_periodic_data_cartesian(\n        size_x, size_y, periodic_fun, nabla_fun=nabla_my_fun\n    )\n\n    nabla_fz = nabla_fz.reshape(-1, 2, 1)\n\n    kernel_ptr = Kernel(\n        x=x, fx=fx, set_kernel=core.kernel_setter(\"tensornorm\", \"scale_to_unitcube\")\n    ).get_kernel()\n\n    fz_inv = core.DiffOps.nabla_inv(\n        x=x,\n        y=x,\n        z=z,\n        kernel_ptr=kernel_ptr,\n        fz=core.DiffOps.nabla(x=x, y=x, z=z, fx=fx, kernel_ptr=kernel_ptr),\n    )\n    multi_plot(\n        [(x, fx), (x, fz_inv)],\n        plot_trisurf,\n        projection=\"3d\",\n        mp_nrows=1,\n        mp_figsize=(12, 3),\n        mp_titles=[\n            \"Comparison between original function to the product of the inverse of the gradient operator and the gradient operator\"\n        ],\n    )\n    plt.show()\n\n\nfun_NablainvNabla2()"
      ]
    }
  ],
  "metadata": {
    "kernelspec": {
      "display_name": "Python 3",
      "language": "python",
      "name": "python3"
    },
    "language_info": {
      "codemirror_mode": {
        "name": "ipython",
        "version": 3
      },
      "file_extension": ".py",
      "mimetype": "text/x-python",
      "name": "python",
      "nbconvert_exporter": "python",
      "pygments_lexer": "ipython3",
      "version": "3.9.13"
    }
  },
  "nbformat": 4,
  "nbformat_minor": 0
}