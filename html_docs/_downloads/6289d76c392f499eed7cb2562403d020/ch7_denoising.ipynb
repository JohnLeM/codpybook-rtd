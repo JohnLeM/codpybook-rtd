{
  "cells": [
    {
      "cell_type": "markdown",
      "metadata": {},
      "source": [
        "\n# 7.02 Denoising\nWe reproduce here the figure 7.3 of the book.\nUtilitary functions can be found next to this file. Here, we only define codpy-related functions.\n"
      ]
    },
    {
      "cell_type": "markdown",
      "metadata": {},
      "source": [
        "## Necessary Imports\n\n"
      ]
    },
    {
      "cell_type": "code",
      "execution_count": null,
      "metadata": {
        "collapsed": false
      },
      "outputs": [],
      "source": [
        "import os \nimport sys \n\nimport matplotlib.pyplot as plt \n\ntry:\n    CURRENT_DIR = os.path.dirname(os.path.abspath(__file__))\nexcept NameError:\n    CURRENT_DIR = os.getcwd()\ndata_path = os.path.join(CURRENT_DIR, \"data\")\nPARENT_DIR = os.path.abspath(os.path.join(CURRENT_DIR, \"..\"))\nsys.path.insert(0, PARENT_DIR)\n\nfrom utils.ch7.ch7_utils import Denoising"
      ]
    },
    {
      "cell_type": "markdown",
      "metadata": {},
      "source": [
        "## Problem statement\nWe consider the denoiser procedure introduced in the book, which aims to solve: \n$$\\inf_{G \\in \\mathcal{H}_k} \\|G-F\\|_{L^2}^2 + \\epsilon \\|\\nabla G\\|_{L^2}^2.$$\nThe noisy signal (left image) is given by $F_\\eta(x) = F(x) + \\eta$, where $\\eta$ is a white noise, and $f$ is a cosine function. The regularized solution is plotted on the right.\n\n"
      ]
    },
    {
      "cell_type": "code",
      "execution_count": null,
      "metadata": {
        "collapsed": false
      },
      "outputs": [],
      "source": [
        "Denoising() \nplt.show()"
      ]
    }
  ],
  "metadata": {
    "kernelspec": {
      "display_name": "Python 3",
      "language": "python",
      "name": "python3"
    },
    "language_info": {
      "codemirror_mode": {
        "name": "ipython",
        "version": 3
      },
      "file_extension": ".py",
      "mimetype": "text/x-python",
      "name": "python",
      "nbconvert_exporter": "python",
      "pygments_lexer": "ipython3",
      "version": "3.9.13"
    }
  },
  "nbformat": 4,
  "nbformat_minor": 0
}