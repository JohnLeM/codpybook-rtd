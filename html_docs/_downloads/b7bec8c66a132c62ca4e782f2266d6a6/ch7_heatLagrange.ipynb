{
  "cells": [
    {
      "cell_type": "markdown",
      "metadata": {},
      "source": [
        "\n# 7.04 Lagrange Heat Equation\nWe reproduce here the figure 7.6 of the book.\nUtilitary functions can be found next to this file. Here, we only define codpy-related functions.\n"
      ]
    },
    {
      "cell_type": "markdown",
      "metadata": {},
      "source": [
        "## Necessary Imports\n\n"
      ]
    },
    {
      "cell_type": "code",
      "execution_count": null,
      "metadata": {
        "collapsed": false
      },
      "outputs": [],
      "source": [
        "import os \nimport sys \n\nimport matplotlib.pyplot as plt \n\ntry:\n    CURRENT_DIR = os.path.dirname(os.path.abspath(__file__))\nexcept NameError:\n    CURRENT_DIR = os.getcwd()\ndata_path = os.path.join(CURRENT_DIR, \"data\")\nPARENT_DIR = os.path.abspath(os.path.join(CURRENT_DIR, \"..\"))\nsys.path.insert(0, PARENT_DIR)\n\nfrom utils.ch7.ch7_utils import Lagrangian"
      ]
    },
    {
      "cell_type": "markdown",
      "metadata": {},
      "source": [
        "## Problem statement\nWe consider the following semi-discrete scheme for $t \\mapsto Y(t) \\in \\mathbb{R}^{N,D}$\n$$\\frac{d}{dt} Y = \\nabla_k \\cdot (\\nabla_k Y)^{-1} = \\nabla_k \\cdot \\Big( \\Delta_k\\Big)^{-1} \\nabla_k Y, \\quad Y(0,x) = X, $$\nThis figure shows our results with this numerical scheme. \nIn the left=hand picture the initial condition, taken as a two-dimensional variate of a standard normal law. \nThe figure in the middle displays the evolution at the time $t=1$.\nThe right-hand picture is a standard scaling of this last to unit variance.\n\n"
      ]
    },
    {
      "cell_type": "code",
      "execution_count": null,
      "metadata": {
        "collapsed": false
      },
      "outputs": [],
      "source": [
        "Lagrangian()\nplt.show()"
      ]
    }
  ],
  "metadata": {
    "kernelspec": {
      "display_name": "Python 3",
      "language": "python",
      "name": "python3"
    },
    "language_info": {
      "codemirror_mode": {
        "name": "ipython",
        "version": 3
      },
      "file_extension": ".py",
      "mimetype": "text/x-python",
      "name": "python",
      "nbconvert_exporter": "python",
      "pygments_lexer": "ipython3",
      "version": "3.9.13"
    }
  },
  "nbformat": 4,
  "nbformat_minor": 0
}