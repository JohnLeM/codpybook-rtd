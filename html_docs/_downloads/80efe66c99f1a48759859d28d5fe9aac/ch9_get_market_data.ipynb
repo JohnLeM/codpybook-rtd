{
  "cells": [
    {
      "cell_type": "markdown",
      "metadata": {},
      "source": [
        "\n# 9.01 Free time series modeling\nWe reproduce here the figure 9.1 of the book, showcasing how to download data an plot the charts for the three selected stocks.\n"
      ]
    },
    {
      "cell_type": "markdown",
      "metadata": {},
      "source": [
        "## Necessary Imports\n\n"
      ]
    },
    {
      "cell_type": "code",
      "execution_count": null,
      "metadata": {
        "collapsed": false
      },
      "outputs": [],
      "source": [
        "import os\nimport sys\n\nimport matplotlib.pyplot as plt\nimport numpy as np\n\ntry:\n    CURRENT_DIR = os.path.dirname(os.path.abspath(__file__))\nexcept NameError:\n    CURRENT_DIR = os.getcwd()\nPARENT_DIR = os.path.abspath(os.path.join(CURRENT_DIR, \"..\"))\nsys.path.insert(0, PARENT_DIR)\n\nfrom utils.ch9.data_utils import df_summary\nfrom utils.ch9.market_data import retrieve_market_data\n\ntry:\n    current_dir = os.path.dirname(__file__)\n    data_path = os.path.join(current_dir, \"data\")\nexcept NameError:\n    current_dir = os.getcwd()\n    data_path = os.path.join(current_dir, \"data\")"
      ]
    },
    {
      "cell_type": "markdown",
      "metadata": {},
      "source": [
        "## Parameter definition\n\n"
      ]
    },
    {
      "cell_type": "code",
      "execution_count": null,
      "metadata": {
        "collapsed": false
      },
      "outputs": [],
      "source": [
        "def get_cdpres_param():\n    return {\n        \"rescale_kernel\": {\"max\": 2000, \"seed\": None},\n        \"rescale\": True,\n        \"grid_projection\": True,\n        \"reproductibility\": False,\n        \"date_format\": \"%d/%m/%Y\",\n        \"begin_date\": \"01/06/2020\",\n        \"end_date\": \"01/06/2022\",\n        \"today_date\": \"01/06/2022\",\n        \"symbols\": [\"AAPL\", \"GOOGL\", \"AMZN\"],\n    }"
      ]
    },
    {
      "cell_type": "markdown",
      "metadata": {},
      "source": [
        "## Getting the market data\nWe call the graphic function created inside the parameters by the `retrieve_market_data` method.\nThis displays the historical data for the selected stocks and date range.\n\n"
      ]
    },
    {
      "cell_type": "code",
      "execution_count": null,
      "metadata": {
        "collapsed": false
      },
      "outputs": [],
      "source": [
        "params = retrieve_market_data()\nparams[\"graphic\"](params)\nplt.show()\nprint(df_summary(np.log(params[\"data\"] / params[\"data\"].shift(1)).dropna()))"
      ]
    }
  ],
  "metadata": {
    "kernelspec": {
      "display_name": "Python 3",
      "language": "python",
      "name": "python3"
    },
    "language_info": {
      "codemirror_mode": {
        "name": "ipython",
        "version": 3
      },
      "file_extension": ".py",
      "mimetype": "text/x-python",
      "name": "python",
      "nbconvert_exporter": "python",
      "pygments_lexer": "ipython3",
      "version": "3.9.13"
    }
  },
  "nbformat": 4,
  "nbformat_minor": 0
}