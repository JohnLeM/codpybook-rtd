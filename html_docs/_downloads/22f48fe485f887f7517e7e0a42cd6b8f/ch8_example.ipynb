{
  "cells": [
    {
      "cell_type": "markdown",
      "metadata": {},
      "source": [
        "\n# 8.1 Using KAgents\nHere we will show how to instanciate and use any of the Kernel Reinforcement Learning algorithms. \nMost of the code is similar to what you would find with standard RL libraries. Specificities are commented and explained below.\n"
      ]
    },
    {
      "cell_type": "code",
      "execution_count": null,
      "metadata": {
        "collapsed": false
      },
      "outputs": [],
      "source": [
        "# Importing necessary modules\nimport codpy.KQLearning as KQLearning\nimport gymnasium as gym\nimport imageio\nimport numpy as np\nimport matplotlib.pyplot as plt\nimport matplotlib.animation as animation\n\nenv = gym.make(\"CartPole-v1\", render_mode=\"rgb_array\")\n\nframes = []\n\n# The agent requires action and observation space dimensions\nagent = KQLearning.KQLearning(env.action_space.n, env.observation_space.shape[0], gamma=0.99)\nsteps = 0\ngames = 0\n\nwhile games < 15:\n    print(\"start game\")\n    # Store the game history for training\n    states, actions, next_states, rewards, dones = [], [], [], [], []\n    state, _ = env.reset()\n    steps = 0\n    while steps < 1000:\n        action = agent(state)\n        next_state, reward, done, _, _ = env.step(action)\n\n        frame = env.render()\n        frames.append(frame)\n        \n        # The agent expects the game to be passed in reverse order\n        (\n            states.insert(0, state),\n            actions.insert(0, action),\n            next_states.insert(0, next_state),\n            rewards.insert(0, reward),\n            dones.insert(0, done),\n        )\n        steps += 1\n        state = next_state\n        if done:\n            break\n    # You train your agent once at the end of every episode\n    agent.train((states, actions, next_states, rewards, dones))\n    games += 1\n    print(f\"Game {games}\")\nenv.close()\n\n# imageio.mimsave(\"cartpole.gif\", frames, fps=30)\n\nfrom IPython.display import HTML, Video, display\n\n# HTML('<img src=\"cartpole.gif\" style=\"max-width: 100%; height: auto;\">')\n\nfig = plt.figure()\nplt.axis(\"off\")\nim = plt.imshow(frames[0])\n\ndef update(frame):\n    im.set_array(frame)\n    return im,\n\nani = animation.FuncAnimation(\n    fig, \n    update, \n    frames=frames,  # Pass the list of frames\n    interval=50,    # Delay between frames (ms)\n    blit=True       # Optimize rendering\n)\nani.save(\"cartpole.mp4\", writer=\"ffmpeg\", fps=30, dpi=100)\ndisplay(Video(\"cartpole.mp4\", embed=True))\n# plt.show()"
      ]
    }
  ],
  "metadata": {
    "kernelspec": {
      "display_name": "Python 3",
      "language": "python",
      "name": "python3"
    },
    "language_info": {
      "codemirror_mode": {
        "name": "ipython",
        "version": 3
      },
      "file_extension": ".py",
      "mimetype": "text/x-python",
      "name": "python",
      "nbconvert_exporter": "python",
      "pygments_lexer": "ipython3",
      "version": "3.9.13"
    }
  },
  "nbformat": 4,
  "nbformat_minor": 0
}