{
  "cells": [
    {
      "cell_type": "markdown",
      "metadata": {},
      "source": [
        "\n# 9.11 Heston Process - Intraday interpolation\nWe reproduce here the figure 9.12 of the book.\nWe show intraday interpolation of prices, and show the error against the actual prices.\nUtilitary functions can be found next to this file.\n"
      ]
    },
    {
      "cell_type": "markdown",
      "metadata": {},
      "source": [
        "## Necessary Imports\n\n"
      ]
    },
    {
      "cell_type": "code",
      "execution_count": null,
      "metadata": {
        "collapsed": false
      },
      "outputs": [],
      "source": [
        "import os \nimport sys \n\nfrom matplotlib import pyplot as plt\n\ntry:\n    CURRENT_DIR = os.path.dirname(os.path.abspath(__file__))\nexcept NameError:\n    CURRENT_DIR = os.getcwd()\ndata_path = os.path.join(CURRENT_DIR, \"data\")\nPARENT_DIR = os.path.abspath(os.path.join(CURRENT_DIR, \"..\"))\nsys.path.insert(0, PARENT_DIR)\n\nfrom utils.ch9.heston import *\n\nparams = maps.composition_map([get_pricer_param,get_instrument_param_basket_option_mat])()\nparams['graphic'](params)\nplt.show()\n\n# Repro test\nparams = get_model_param()\nparams = {**params,**get_var_param(params)}\nparams['reproductibility'] = True\nparams = maps.apply_map(params)\nparams = generate_paths(params)\nparams['graphic'](params)\nplt.show()\n\nparams = get_var_data()\nparams['graphic'](params)\nplt.show()"
      ]
    }
  ],
  "metadata": {
    "kernelspec": {
      "display_name": "Python 3",
      "language": "python",
      "name": "python3"
    },
    "language_info": {
      "codemirror_mode": {
        "name": "ipython",
        "version": 3
      },
      "file_extension": ".py",
      "mimetype": "text/x-python",
      "name": "python",
      "nbconvert_exporter": "python",
      "pygments_lexer": "ipython3",
      "version": "3.9.13"
    }
  },
  "nbformat": 4,
  "nbformat_minor": 0
}